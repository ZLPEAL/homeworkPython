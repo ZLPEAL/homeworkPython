{
 "cells": [
  {
   "cell_type": "code",
   "execution_count": 9,
   "id": "4e667aa6-d4a5-48ca-af0e-b8d463c2ab1c",
   "metadata": {},
   "outputs": [],
   "source": [
    "# # 1. Разобраться как использовать мультииндексные ключи в данном примере"
   ]
  },
  {
   "cell_type": "code",
   "execution_count": 5,
   "id": "1222d346-78d0-4b60-8705-c5527a9a86df",
   "metadata": {},
   "outputs": [],
   "source": [
    "import pandas as pd\n",
    "import numpy as np"
   ]
  },
  {
   "cell_type": "code",
   "execution_count": 25,
   "id": "210daec1-d804-40c1-b27a-859c2d738be3",
   "metadata": {},
   "outputs": [
    {
     "name": "stdout",
     "output_type": "stream",
     "text": [
      "first   second\n",
      "city_1  2010      101\n",
      "        2020      201\n",
      "city_2  2010      102\n",
      "        2020      202\n",
      "city_3  2010      103\n",
      "        2020      203\n",
      "dtype: int64\n",
      "               total  something\n",
      "first  second                  \n",
      "city_1 2010      101         10\n",
      "       2020      201         11\n",
      "city_2 2010      102         12\n",
      "       2020      202         13\n",
      "city_3 2010      103         14\n",
      "       2020      203         15\n"
     ]
    }
   ],
   "source": [
    "index = [\n",
    "     ('city_1', 2010),\n",
    "     ('city_1', 2020),\n",
    "     ('city_2', 2010),\n",
    "     ('city_2', 2020),\n",
    "     ('city_3', 2010),\n",
    "     ('city_3', 2020),\n",
    " ]\n",
    "index = pd.MultiIndex.from_tuples(index, names = ['first', 'second'])\n",
    "population = [\n",
    "     101,\n",
    "     201,\n",
    "     102,\n",
    "     202,\n",
    "     103,\n",
    "     203,\n",
    " ]\n",
    "pop = pd.Series(population, index = index)\n",
    "pop_df = pd.DataFrame(\n",
    "     {\n",
    "         'total': pop,\n",
    "         'something': [\n",
    "             10,\n",
    "             11,\n",
    "             12,\n",
    "             13,\n",
    "             14,\n",
    "             15,\n",
    "         ]\n",
    "     }\n",
    " )\n",
    "print(pop)\n",
    "print(pop_df)"
   ]
  },
  {
   "cell_type": "code",
   "execution_count": 56,
   "id": "d58856e1-1fdd-4fd3-aaef-1480abf03d85",
   "metadata": {},
   "outputs": [
    {
     "name": "stdout",
     "output_type": "stream",
     "text": [
      "df_1\n",
      "first   second\n",
      "city_1  2010      10\n",
      "        2020      11\n",
      "Name: something, dtype: int64\n",
      "df_2\n",
      "               total  something\n",
      "first  second                  \n",
      "city_1 2020      201         11\n",
      "city_3 2020      203         15\n",
      "df_3\n",
      "first   second\n",
      "city_1  2010      10\n",
      "        2020      11\n",
      "city_3  2010      14\n",
      "        2020      15\n",
      "Name: something, dtype: int64\n"
     ]
    }
   ],
   "source": [
    "pop_df_1 = pop_df.loc[('city_1', slice(None)), 'something']\n",
    "pop_df_2 = pop_df.loc[(['city_1', 'city_3'], 2020), ['total', 'something']]\n",
    "pop_df_3 = pop_df.loc[['city_1', 'city_3'], 'something']\n",
    "print('df_1')\n",
    "print(pop_df_1)\n",
    "print('df_2')\n",
    "print(pop_df_2)\n",
    "print('df_3')\n",
    "print(pop_df_3)"
   ]
  },
  {
   "cell_type": "code",
   "execution_count": null,
   "id": "6b16165b-8e4b-40e4-8b69-f806c0134dcb",
   "metadata": {},
   "outputs": [],
   "source": [
    "# 2. Из получившихся данных выбрать данные по \n",
    "# - 2020 году (для всех столбцов)\n",
    "# - job_1 (для всех строк)\n",
    "# - для city_1 и job_2 \n"
   ]
  },
  {
   "cell_type": "code",
   "execution_count": 60,
   "id": "71ba136e-2f89-4408-aa67-63c552b5aa18",
   "metadata": {},
   "outputs": [
    {
     "name": "stdout",
     "output_type": "stream",
     "text": [
      "               total  something\n",
      "first  second                  \n",
      "city_1 2020      201         11\n",
      "city_2 2020      202         13\n",
      "city_3 2020      203         15\n"
     ]
    }
   ],
   "source": [
    "pop_df_2_1 = pop_df.loc[(slice(None),2020), ['total','something']]\n",
    "print(pop_df_2_1)"
   ]
  },
  {
   "cell_type": "code",
   "execution_count": 64,
   "id": "ef55a91e-38a3-4a2d-8922-f3628f22d974",
   "metadata": {},
   "outputs": [],
   "source": [
    "#4. Привести пример использования inner и outer джойнов для Series (данные примера скорее всего нужно изменить)\n",
    "#third and fourth tasks я не могу выполнить так как, как я понял, понять что за job and person я смогу только в видео уроке, не позволяет интрнет посмотреть ваши лекции. В скором времени смогу полноценно участвовать в обучении "
   ]
  },
  {
   "cell_type": "code",
   "execution_count": 92,
   "id": "dbbdd609-3989-4628-b897-edf3730a06ea",
   "metadata": {},
   "outputs": [],
   "source": [
    "ser1 = pd.Series(['a', 'b', 'c'], index=[1,2,3])\n",
    "ser2 = pd.Series(['x', 'y', 'z'], index=[3,5,2])\n",
    "\n",
    "outer_joined = pd.concat([ser1,ser2], join = 'outer', axis = 1)\n",
    "inner_joined = pd.concat([ser1,ser2], join = 'inner', axis = 1)"
   ]
  },
  {
   "cell_type": "code",
   "execution_count": 94,
   "id": "f9027959-9d81-4749-95f1-74dff4077a8e",
   "metadata": {},
   "outputs": [
    {
     "name": "stdout",
     "output_type": "stream",
     "text": [
      "inner\n",
      "   0  1\n",
      "2  b  z\n",
      "3  c  x\n",
      " \n",
      "outer\n",
      "     0    1\n",
      "1    a  NaN\n",
      "2    b    z\n",
      "3    c    x\n",
      "5  NaN    y\n"
     ]
    }
   ],
   "source": [
    "print('inner')\n",
    "print(inner_joined)\n",
    "print(' ')\n",
    "print('outer')\n",
    "print(outer_joined)"
   ]
  },
  {
   "cell_type": "code",
   "execution_count": null,
   "id": "bd3c37c5-c647-4949-a1ae-fd5b85851da6",
   "metadata": {},
   "outputs": [],
   "source": []
  }
 ],
 "metadata": {
  "kernelspec": {
   "display_name": "Python [conda env:base] *",
   "language": "python",
   "name": "conda-base-py"
  },
  "language_info": {
   "codemirror_mode": {
    "name": "ipython",
    "version": 3
   },
   "file_extension": ".py",
   "mimetype": "text/x-python",
   "name": "python",
   "nbconvert_exporter": "python",
   "pygments_lexer": "ipython3",
   "version": "3.12.7"
  }
 },
 "nbformat": 4,
 "nbformat_minor": 5
}
