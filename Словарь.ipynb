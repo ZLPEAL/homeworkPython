{
 "cells": [
  {
   "cell_type": "markdown",
   "id": "e4d450c2",
   "metadata": {},
   "source": [
    "# Словарь"
   ]
  },
  {
   "cell_type": "markdown",
   "id": "ca42b161",
   "metadata": {
    "ExecuteTime": {
     "end_time": "2024-11-12T17:23:33.620558Z",
     "start_time": "2024-11-12T17:23:33.612887Z"
    }
   },
   "source": [
    "## Порядок сдачи домашнего"
   ]
  },
  {
   "cell_type": "markdown",
   "id": "1ff1df47",
   "metadata": {},
   "source": [
    "Вам требуется создать гит репозиторий куда вы будете складывать все ваши домашние. Под каждое домашнее вы создаете отдельную ветку куда вносите все изменения в рамках домашнего. Как только домашнее готово - создаете пулл реквест (обратите внимание что в пулл реквесте должны быть отражены все изменения в рамках домашнего) или присылаете код в СДО. Ревьювером назначаете http://github.com/michael15346/ и https://github.com/shgpavel . Перед сдачей проверьте код, напишите тесты. Не забудьте про PEP8, например, с помощью flake8. Задание нужно делать в jupyter notebook.\n",
    "\n",
    "**Дедлайн - 25 ноября 10:00**"
   ]
  },
  {
   "cell_type": "markdown",
   "id": "f9fd13a2",
   "metadata": {},
   "source": [
    "Во время лекции мы с вами познакомились с различными реализациями множества и массива. Задача домашнего задания реализовать собственное множество. Операции добавления и удаления должны работать аммортизированное $O(1)$.\n",
    "\n",
    "Пример использования:\n",
    "```python\n",
    "d = Dict()\n",
    "d[\"name\"] = \"Peter\"\n",
    "d[\"age\"] = 25\n",
    "d[\"city\"] = \"Saint-Petersburg\"\n",
    "\n",
    "print(d[\"name\"])\n",
    "Peter\n",
    "\n",
    "print(\"age\" in d)\n",
    "True\n",
    "\n",
    "del d[\"city\"]\n",
    "\n",
    "print(d.keys())\n",
    "['name', 'age']\n",
    "\n",
    "print(d.values())\n",
    "['Peter', 25]\n",
    "\n",
    "print(d.items())\n",
    "[('name', 'Peter'), ('age', 25)]\n",
    "\n",
    "print(d)\n",
    "{'name': 'Peter', 'age': 25}\n",
    "```"
   ]
  },
  {
   "cell_type": "code",
   "execution_count": 1,
   "id": "1f4b4200-ff25-4284-86cc-0c9c2167f068",
   "metadata": {},
   "outputs": [],
   "source": [
    "class Dict:\n",
    "    def __init__(self, size=100):\n",
    "        self.size = size\n",
    "        self.table = [None] * size  # Хэш-таблица\n",
    "        self.count = 0  # Количество элементов\n",
    "\n",
    "    def __setitem__(self, key, value):\n",
    "        \"\"\"Добавление или обновление значения по ключу.\"\"\"\n",
    "        if self.count >= self.size * 0.7: \n",
    "            self._resize()\n",
    "        \n",
    "        index = hash(key) % self.size\n",
    "        while self.table[index] is not None:\n",
    "            if self.table[index][0] == key:  # Ключ уже существует\n",
    "                self.table[index] = (key, value)  # Обновляем значение\n",
    "                return\n",
    "            index = (index + 1) % self.size  # Линейное пробирование\n",
    "        \n",
    "        self.table[index] = (key, value)  # Добавляем новую пару (ключ, значение)\n",
    "        self.count += 1\n",
    "\n",
    "    def __getitem__(self, key):\n",
    "        \"\"\"Получение значения по ключу.\"\"\"\n",
    "        index = hash(key) % self.size\n",
    "        while self.table[index] is not None:\n",
    "            if self.table[index][0] == key:\n",
    "                return self.table[index][1]\n",
    "            index = (index + 1) % self.size  # Линейное пробирование\n",
    "\n",
    "        raise KeyError(f\"Key '{key}' not found\")\n",
    "\n",
    "    def __delitem__(self, key):\n",
    "        \"\"\"Удаление ключа и значения.\"\"\"\n",
    "        index = hash(key) % self.size\n",
    "        while self.table[index] is not None:\n",
    "            if self.table[index][0] == key:\n",
    "                self.table[index] = None  # Удаляем элемент\n",
    "                self.count -= 1\n",
    "                return\n",
    "            index = (index + 1) % self.size  # Линейное пробирование\n",
    "        \n",
    "        raise KeyError(f\"Key '{key}' not found\")\n",
    "\n",
    "    def __contains__(self, key):\n",
    "        \"\"\"Проверка наличия ключа.\"\"\"\n",
    "        index = hash(key) % self.size\n",
    "        while self.table[index] is not None:\n",
    "            if self.table[index][0] == key:\n",
    "                return True\n",
    "            index = (index + 1) % self.size\n",
    "        return False\n",
    "\n",
    "    def keys(self):\n",
    "        \"\"\"Получение всех ключей.\"\"\"\n",
    "        return [item[0] for item in self.table if item]\n",
    "\n",
    "    def values(self):\n",
    "        \"\"\"Получение всех значений.\"\"\"\n",
    "        return [item[1] for item in self.table if item]\n",
    "\n",
    "    def items(self):\n",
    "        \"\"\"Получение всех пар (ключ, значение).\"\"\"\n",
    "        return [(item[0], item[1]) for item in self.table if item]\n",
    "\n",
    "    def __repr__(self):\n",
    "        \"\"\"Представление таблицы.\"\"\"\n",
    "        return \"{\" + \", \".join(f\"'{k}': {v}\" for k, v in self.items()) + \"}\"\n",
    "\n",
    "    def _resize(self):\n",
    "        \"\"\"Увеличение размера хеш-таблицы при переполнении.\"\"\"\n",
    "        old_table = self.table\n",
    "        self.size *= 2\n",
    "        self.table = [None] * self.size\n",
    "        self.count = 0  # Сбрасываем счетчик элементов\n",
    "\n",
    "        for item in old_table:\n",
    "            if item:\n",
    "                self[item[0]] = item[1]  # Добавляем элементы заново\n"
   ]
  },
  {
   "cell_type": "code",
   "execution_count": 5,
   "id": "114aef25-507a-4419-b849-06b351e1492a",
   "metadata": {},
   "outputs": [
    {
     "name": "stdout",
     "output_type": "stream",
     "text": [
      "Peter\n",
      "True\n",
      "['name', 'age']\n",
      "['Peter', 25]\n",
      "[('name', 'Peter'), ('age', 25)]\n",
      "{'name': Peter, 'age': 25}\n"
     ]
    }
   ],
   "source": [
    "d = Dict()\n",
    "d[\"name\"] = \"Peter\"\n",
    "d[\"age\"] = 25\n",
    "d[\"city\"] = \"Saint-Petersburg\"\n",
    "\n",
    "print(d[\"name\"])\n",
    "\n",
    "\n",
    "print(\"age\" in d)\n",
    "\n",
    "\n",
    "del d[\"city\"]\n",
    "\n",
    "print(d.keys())\n",
    "\n",
    "\n",
    "print(d.values())\n",
    "\n",
    "\n",
    "print(d.items())\n",
    "\n",
    "\n",
    "print(d)\n"
   ]
  },
  {
   "cell_type": "code",
   "execution_count": null,
   "id": "c8ea5b81-d0a7-4f95-b103-94ce00d773a9",
   "metadata": {},
   "outputs": [],
   "source": []
  }
 ],
 "metadata": {
  "kernelspec": {
   "display_name": "Python 3 (ipykernel)",
   "language": "python",
   "name": "python3"
  },
  "language_info": {
   "codemirror_mode": {
    "name": "ipython",
    "version": 3
   },
   "file_extension": ".py",
   "mimetype": "text/x-python",
   "name": "python",
   "nbconvert_exporter": "python",
   "pygments_lexer": "ipython3",
   "version": "3.12.3"
  }
 },
 "nbformat": 4,
 "nbformat_minor": 5
}
