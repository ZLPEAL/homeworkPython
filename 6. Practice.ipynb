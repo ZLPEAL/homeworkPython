{
 "cells": [
  {
   "cell_type": "markdown",
   "id": "25e802ab",
   "metadata": {},
   "source": [
    "# Вычисление факториала числа"
   ]
  },
  {
   "cell_type": "markdown",
   "id": "62441eab",
   "metadata": {},
   "source": [
    "Напишите функцию, которая принимает целое число n и возвращает его факториал n!.\n",
    "\n",
    "Пример:\n",
    "* Вход: $n = 5$\n",
    "* Выход: $120$ (так как  $5! = 5 \\times 4 \\times 3 \\times 2 \\times 1 = 120$ )\n"
   ]
  },
  {
   "cell_type": "code",
   "execution_count": 7,
   "id": "4a9e929a",
   "metadata": {},
   "outputs": [
    {
     "name": "stdout",
     "output_type": "stream",
     "text": [
      "120\n"
     ]
    }
   ],
   "source": [
    "def frac(n):\n",
    "    result = 1\n",
    "    for x in range(1,n+1):\n",
    "        result *=x\n",
    "    return result\n",
    "\n",
    "print(frac(5))  # Выход: 120"
   ]
  },
  {
   "cell_type": "markdown",
   "id": "7e71749c",
   "metadata": {},
   "source": [
    "# Поиск максимального элемента в матрице"
   ]
  },
  {
   "cell_type": "markdown",
   "id": "155bb94d",
   "metadata": {},
   "source": [
    "Напишите функцию, которая принимает матрицу (двумерный список) и находит максимальный элемент в этой матрице. Функция должна возвращать максимальное значение и его координаты (индексы строки и столбца)."
   ]
  },
  {
   "cell_type": "code",
   "execution_count": 11,
   "id": "4ff0bdf0",
   "metadata": {},
   "outputs": [
    {
     "name": "stdout",
     "output_type": "stream",
     "text": [
      "9\n",
      "(2, 2)\n"
     ]
    }
   ],
   "source": [
    "def find_max_in_matrix(matrix):\n",
    "    max_value = matrix[0][0]\n",
    "    max_position = (0,0)\n",
    "    row_len = len(matrix[0])\n",
    "    col_len = len(matrix)\n",
    "    for i in range(row_len):\n",
    "        for j in range(col_len):\n",
    "            if matrix[i][j] > max_value:\n",
    "                max_value = matrix[i][j]\n",
    "                max_position = (i,j)\n",
    "    return max_value,max_position\n",
    "    pass\n",
    "\n",
    "matrix = [\n",
    "    [1, 2, 3],\n",
    "    [4, 5, 6],\n",
    "    [7, 8, 9]\n",
    "]\n",
    "row_len = len(matrix[0])\n",
    "max_value, max_position = find_max_in_matrix(matrix)\n",
    "print(max_value) ## 9\n",
    "print(max_position) ## (2, 2)"
   ]
  },
  {
   "cell_type": "markdown",
   "id": "69827bab",
   "metadata": {},
   "source": [
    "# Подсчёт каждой цифры в большом числе "
   ]
  },
  {
   "cell_type": "markdown",
   "id": "8770d3a0",
   "metadata": {},
   "source": [
    "Напишите функцию, которая принимает очень большое целое число и возвращает словарь, где ключом является каждая цифра от 0 до 9, а значением — количество её вхождений в числе. Не используйте строки или преобразование числа в строку.\n",
    "\n",
    "**Пример:**\n",
    "* Вход: 12345678901234567890\n",
    "* Выход: {0: 2, 1: 2, 2: 2, 3: 2, 4: 2, 5: 2, 6: 2, 7: 2, 8: 2, 9: 2}\n",
    "* Вход: 555123123555\n",
    "* Выход: {0: 0, 1: 2, 2: 2, 3: 2, 4: 0, 5: 6, 6: 0, 7: 0, 8: 0, 9: 0}"
   ]
  },
  {
   "cell_type": "code",
   "execution_count": 15,
   "id": "00143578",
   "metadata": {},
   "outputs": [],
   "source": [
    "from collections import defaultdict\n",
    "\n",
    "def count_digits(number):\n",
    "    cdigits = defaultdict(int)\n",
    "    while number > 10:\n",
    "        digit = number % 10\n",
    "        number//=10\n",
    "        cdigits[digit] += 1\n",
    "    return cdigits\n"
   ]
  },
  {
   "cell_type": "code",
   "execution_count": 17,
   "id": "5b0138e7-4215-4b6e-998f-e5f2dd97d3be",
   "metadata": {},
   "outputs": [
    {
     "name": "stdout",
     "output_type": "stream",
     "text": [
      "CPU times: total: 0 ns\n",
      "Wall time: 0 ns\n"
     ]
    },
    {
     "data": {
      "text/plain": [
       "defaultdict(int,\n",
       "            {5: 8, 8: 14, 4: 13, 3: 9, 0: 12, 6: 12, 9: 8, 7: 2, 2: 2, 1: 1})"
      ]
     },
     "execution_count": 17,
     "metadata": {},
     "output_type": "execute_result"
    }
   ],
   "source": [
    "%%time\n",
    "count_digits(1234567890123456789048594686035680548604860348560934803486094869034958630948603485)"
   ]
  },
  {
   "cell_type": "markdown",
   "id": "3d86eb5c",
   "metadata": {},
   "source": [
    "\n",
    "# Вычисление экспоненциального ряда"
   ]
  },
  {
   "cell_type": "markdown",
   "id": "9aa8d601",
   "metadata": {},
   "source": [
    "Напишите функцию, которая приближённо вычисляет значение экспоненты  $e^x$  по следующей формуле:\n",
    "\n",
    "$$e^x = 1 + \\frac{x}{1!} + \\frac{x^2}{2!} + \\frac{x^3}{3!} + \\dots + \\frac{x^n}{n!}$$\n",
    "\n",
    "Используйте только n первых членов ряда и факториалы, вычисленные самостоятельно.\n",
    "\n",
    "Пример:\n",
    "* Вход: $x = 1, n = 5$\n",
    "* Выход: $2.7166666666666663$ (близко к реальному значению  $e \\approx 2.718$ )"
   ]
  },
  {
   "cell_type": "code",
   "execution_count": 21,
   "id": "c89ba3af",
   "metadata": {},
   "outputs": [
    {
     "name": "stdout",
     "output_type": "stream",
     "text": [
      "2.7166666666666663\n"
     ]
    }
   ],
   "source": [
    "def e(x, n):\n",
    "    result = 0.0\n",
    "    for i in range(n+1):\n",
    "        result = result + (x**i)/frac(i)\n",
    "    return result\n",
    "\n",
    "# Пример использования\n",
    "print(e(1, 5))  # Выход: приближённое значение e ≈ 2.71667"
   ]
  },
  {
   "cell_type": "code",
   "execution_count": 23,
   "id": "f9f748f9-c906-4e8d-bd96-fb9f1b40f0e0",
   "metadata": {},
   "outputs": [],
   "source": [
    "def e2(x, n):\n",
    "    result = 1.0\n",
    "    term = 1.0\n",
    "    for i in range(1,n+1):\n",
    "        term *=x/i\n",
    "        result +=term\n",
    "    return result"
   ]
  },
  {
   "cell_type": "code",
   "execution_count": 25,
   "id": "47f3d715-fa55-41a6-b601-6128854d1074",
   "metadata": {},
   "outputs": [
    {
     "name": "stdout",
     "output_type": "stream",
     "text": [
      "2.7166666666666663\n",
      "CPU times: total: 0 ns\n",
      "Wall time: 813 μs\n"
     ]
    }
   ],
   "source": [
    "%%time\n",
    "print(e2(1, 5))"
   ]
  },
  {
   "cell_type": "markdown",
   "id": "195d27a7",
   "metadata": {
    "ExecuteTime": {
     "end_time": "2024-10-30T05:09:38.468053Z",
     "start_time": "2024-10-30T05:09:38.451652Z"
    }
   },
   "source": [
    "# Вычисление корней квадратного уравнения"
   ]
  },
  {
   "cell_type": "markdown",
   "id": "c2ff033a",
   "metadata": {
    "ExecuteTime": {
     "end_time": "2024-10-30T05:10:25.417423Z",
     "start_time": "2024-10-30T05:10:25.396719Z"
    }
   },
   "source": [
    "Напишите функцию, которая решает квадратное уравнение вида  $ax^2 + bx + c = 0$ , где коэффициенты a, b и c вводятся пользователем. Функция должна вернуть действительные корни уравнения, если они существуют, или сообщить, что корней нет.\n",
    "\n",
    "Пример:\n",
    "* Вход: $a = 1, b = -3, c = 2$\n",
    "* Выход: корни $(2, 1)$"
   ]
  },
  {
   "cell_type": "code",
   "execution_count": 29,
   "id": "6ed1b459",
   "metadata": {},
   "outputs": [
    {
     "name": "stdout",
     "output_type": "stream",
     "text": [
      "(2.0, 1.0)\n",
      "no roots\n",
      "None\n"
     ]
    }
   ],
   "source": [
    "import math\n",
    "\n",
    "def quadratic_roots(a, b, c):\n",
    "    d = b*b - 4*a*c\n",
    "    if d == 0:\n",
    "        root = (-b + math.sqrt(d))/2*a\n",
    "        return root\n",
    "    if d>0:\n",
    "        root1 = (-b + math.sqrt(d))/2*a\n",
    "        root2 = (-b - math.sqrt(d))/2*a\n",
    "        return root1, root2\n",
    "    else:\n",
    "        print('no roots')\n",
    "        return \n",
    "        \n",
    "\n",
    "# Пример использования\n",
    "print(quadratic_roots(1, -3, 2))  # Выход: (2, 1)\n",
    "print(quadratic_roots(1, 2, 5))   # Выход: \"Нет действительных корней\""
   ]
  },
  {
   "cell_type": "markdown",
   "id": "b1deb6a0",
   "metadata": {},
   "source": [
    "# Приближённое вычисление синуса с использованием ряда Тейлора"
   ]
  },
  {
   "cell_type": "markdown",
   "id": "6c1aced2",
   "metadata": {},
   "source": [
    "Напишите функцию, которая приближённо вычисляет значение синуса для угла $x$ (в радианах) с использованием ряда Тейлора. Формула для синуса через ряд Тейлора:\n",
    "\n",
    "$$\\sin(x) = x - \\frac{x^3}{3!} + \\frac{x^5}{5!} - \\frac{x^7}{7!} + \\dots$$\n",
    "Функция должна принимать угол x и количество членов n и возвращать приближённое значение синуса, вычисленное с точностью до n членов.\n"
   ]
  },
  {
   "cell_type": "code",
   "execution_count": 33,
   "id": "04e40aba",
   "metadata": {
    "ExecuteTime": {
     "end_time": "2024-10-30T05:14:58.636704Z",
     "start_time": "2024-10-30T05:14:58.624892Z"
    }
   },
   "outputs": [
    {
     "name": "stdout",
     "output_type": "stream",
     "text": [
      "0.9999996270418698\n"
     ]
    }
   ],
   "source": [
    "def sin_taylor(x, n):\n",
    "    result = 0.0\n",
    "    for i in range(n+1):\n",
    "        result += (-1)**i * x**(2*i+1)/frac(2*i+1)\n",
    "    return result\n",
    "\n",
    "# Пример использования\n",
    "print(sin_taylor(1.57, 5))  # Выход: примерно 1 (для x ≈ π/2)"
   ]
  },
  {
   "cell_type": "markdown",
   "id": "f33c8568",
   "metadata": {},
   "source": [
    "# Подсчёт единичных битов в числе"
   ]
  },
  {
   "cell_type": "markdown",
   "id": "d1e0775d",
   "metadata": {
    "ExecuteTime": {
     "end_time": "2024-10-30T05:17:58.157530Z",
     "start_time": "2024-10-30T05:17:58.139148Z"
    }
   },
   "source": [
    "Напишите функцию, которая принимает целое число n и возвращает количество единичных битов в его двоичном представлении (так называемое “популяционное количество” или “hamming weight”).\n",
    "\n",
    "Пример:\n",
    "* Вход: $n = 9$ (двоичное представление $1001$)\n",
    "* Выход: $2$ (так как в числе $1001$ два единичных бита)"
   ]
  },
  {
   "cell_type": "code",
   "execution_count": 37,
   "id": "38136a82",
   "metadata": {
    "ExecuteTime": {
     "end_time": "2024-10-30T05:18:13.787106Z",
     "start_time": "2024-10-30T05:18:13.782701Z"
    }
   },
   "outputs": [
    {
     "name": "stdout",
     "output_type": "stream",
     "text": [
      "2\n"
     ]
    }
   ],
   "source": [
    "def count_set_bits(n):\n",
    "    result = 0\n",
    "    while n > 0:\n",
    "        result += n % 2\n",
    "        n //= 2\n",
    "    return result\n",
    "\n",
    "\n",
    "# Пример использования\n",
    "print(count_set_bits(9))  # Выход: 2"
   ]
  },
  {
   "cell_type": "markdown",
   "id": "0bb78081",
   "metadata": {},
   "source": [
    "# Переворот битов в числе"
   ]
  },
  {
   "cell_type": "markdown",
   "id": "b8500f42",
   "metadata": {
    "ExecuteTime": {
     "end_time": "2024-10-30T05:19:49.749240Z",
     "start_time": "2024-10-30T05:19:49.733887Z"
    }
   },
   "source": [
    "Напишите функцию, которая принимает целое положительное число n и количество бит num_bits и возвращает число n с перевёрнутыми битами в его двоичном представлении (то есть 0 становится 1 и наоборот) до длины num_bits.\n",
    "\n",
    "Пример:\n",
    "\n",
    "* Вход: $n = 5$ (двоичное представление $0101$), num_bits = 4\n",
    "* Выход: $10$ (двоичное представление $1010$)\n"
   ]
  },
  {
   "cell_type": "code",
   "execution_count": 98,
   "id": "5df23427",
   "metadata": {
    "ExecuteTime": {
     "end_time": "2024-10-30T05:20:15.538260Z",
     "start_time": "2024-10-30T05:20:15.516958Z"
    }
   },
   "outputs": [
    {
     "name": "stdout",
     "output_type": "stream",
     "text": [
      "10\n"
     ]
    }
   ],
   "source": [
    "def invert_bits(n, num_bits):\n",
    "    if n % 2 != 0:\n",
    "        n <<= 1\n",
    "    else:\n",
    "        n >>= 1\n",
    "    return n \n",
    "        \n",
    "    \n",
    "\n",
    "# Пример использования\n",
    "print(invert_bits(5, 4))  # Выход: 10"
   ]
  },
  {
   "cell_type": "markdown",
   "id": "c29e6294",
   "metadata": {},
   "source": [
    "# Возведение числа в степень"
   ]
  },
  {
   "cell_type": "markdown",
   "id": "8d92e469",
   "metadata": {},
   "source": [
    "Напишите функцию, которая принимает два целых числа base и exponent и возвращает результат возведения base в степень exponent. Используйте метод “возведения в степень за логарифмическое время” (метод деления степени пополам)."
   ]
  },
  {
   "cell_type": "code",
   "execution_count": 61,
   "id": "0cbdf898",
   "metadata": {
    "ExecuteTime": {
     "end_time": "2024-10-30T05:24:49.050670Z",
     "start_time": "2024-10-30T05:24:49.038971Z"
    }
   },
   "outputs": [
    {
     "name": "stdout",
     "output_type": "stream",
     "text": [
      "1024\n",
      "0.1111111111111111\n"
     ]
    }
   ],
   "source": [
    "def power(base, exponent):\n",
    "    if exponent < 0:\n",
    "        exponent = - exponent\n",
    "        return 1 / power(base, exponent)\n",
    "    if exponent == 0:\n",
    "        return 1\n",
    "    if exponent == 1:\n",
    "        return base\n",
    "    if exponent % 2 == 0:\n",
    "        x = power(base, exponent // 2)\n",
    "        return x * x\n",
    "    if exponent % 2 == 1:\n",
    "        return power(base, exponent - 1) * power(base, 1)\n",
    "\n",
    "print(power(2, 10))    # Выход: 1024\n",
    "print(power(3, -2))    # Выход: 0.1111"
   ]
  },
  {
   "cell_type": "markdown",
   "id": "12002951",
   "metadata": {},
   "source": [
    "# Отрисовка ромба"
   ]
  },
  {
   "cell_type": "markdown",
   "id": "10a3d85a",
   "metadata": {},
   "source": [
    "Напишите функцию, которая принимает целое положительное число n и рисует ромб высотой 2 * n - 1 строк. Верхняя и нижняя части ромба должны иметь наибольшую ширину 2 * n - 1, а середина ромба (строка n) должна иметь максимальную ширину."
   ]
  },
  {
   "cell_type": "code",
   "execution_count": null,
   "id": "ee7eb667",
   "metadata": {},
   "outputs": [],
   "source": [
    "# draw_diamond(3)\n",
    "#  *\n",
    "# ***\n",
    "#*****\n",
    "# ***\n",
    "#  *"
   ]
  },
  {
   "cell_type": "code",
   "execution_count": 47,
   "id": "60766226",
   "metadata": {
    "ExecuteTime": {
     "end_time": "2024-10-30T05:45:35.770423Z",
     "start_time": "2024-10-30T05:45:35.759216Z"
    }
   },
   "outputs": [
    {
     "name": "stdout",
     "output_type": "stream",
     "text": [
      "  *\n",
      " ***\n",
      "*****\n",
      " ***\n",
      "  *\n"
     ]
    }
   ],
   "source": [
    "def draw_diamond(n):\n",
    "    for i in range(1, n + 1):\n",
    "        print(' ' * (n - i) + '*' * (2 * i - 1))\n",
    "    for i in range(n - 1, 0, -1):\n",
    "        print(' ' * (n - i) + '*' * (2 * i - 1))\n",
    "\n",
    "draw_diamond(3)"
   ]
  },
  {
   "cell_type": "markdown",
   "id": "4e65873f",
   "metadata": {
    "ExecuteTime": {
     "end_time": "2024-10-30T05:54:39.104633Z",
     "start_time": "2024-10-30T05:54:39.093934Z"
    }
   },
   "source": [
    "# Сортировка вставками"
   ]
  },
  {
   "cell_type": "markdown",
   "id": "82e456ec",
   "metadata": {},
   "source": [
    "Сортировка вставками работает по принципу упорядочивания списка “слева направо”. Алгоритм делит массив на две части: отсортированную и неотсортированную. На каждом шаге берётся первый элемент из неотсортированной части и вставляется в правильное место в отсортированной части. Эта операция выполняется до тех пор, пока неотсортированная часть не станет пустой.\n",
    "\n",
    "**Пошаговый пример:**   \n",
    "\n",
    "Для массива [5, 2, 9, 1, 5, 6]:\n",
    "\n",
    "1.\tНачинаем с 5 (считаем отсортированным).\n",
    "2.\tБерём 2, вставляем перед 5 → [2, 5, 9, 1, 5, 6].\n",
    "3.\tБерём 9, уже на своём месте → [2, 5, 9, 1, 5, 6].\n",
    "4.\tБерём 1, вставляем перед 2 → [1, 2, 5, 9, 5, 6].\n",
    "5.\tБерём 5, вставляем после первого 5 → [1, 2, 5, 5, 9, 6].\n",
    "6.\tБерём 6, вставляем перед 9 → [1, 2, 5, 5, 6, 9]."
   ]
  },
  {
   "cell_type": "code",
   "execution_count": 49,
   "id": "9f7d36c9",
   "metadata": {},
   "outputs": [
    {
     "data": {
      "text/plain": [
       "[1, 2, 5, 5, 6, 9]"
      ]
     },
     "execution_count": 49,
     "metadata": {},
     "output_type": "execute_result"
    }
   ],
   "source": [
    "def insertion_sort(arr):\n",
    "    for i in range(1, len(arr)):\n",
    "        temp = arr[i]\n",
    "        j = i - 1\n",
    "        while j >= 0 and arr[j] > temp:\n",
    "            arr[j + 1] = arr[j]\n",
    "            j -= 1\n",
    "        arr[j + 1] = temp\n",
    "\n",
    "    return arr\n",
    "    pass\n",
    "insertion_sort([5, 2, 9, 1, 5, 6])"
   ]
  },
  {
   "cell_type": "markdown",
   "id": "0291f2b9",
   "metadata": {},
   "source": [
    "# Быстрая сортировка"
   ]
  },
  {
   "cell_type": "markdown",
   "id": "2035308e",
   "metadata": {},
   "source": [
    "Быстрая сортировка — это алгоритм, который работает по принципу разделяй и властвуй. Алгоритм выбирает так называемый опорный элемент (или “разделитель”) и делит массив на две части: элементы, меньшие опорного, и элементы, большие или равные ему. После этого рекурсивно выполняет ту же процедуру для каждой части массива. Это позволяет быстро упорядочить массив.\n",
    "\n",
    "**Как работает алгоритм:**\n",
    "\n",
    "1.\tВыбираем опорный элемент (обычно берётся средний элемент массива, но можно использовать и другие подходы).\n",
    "2.\tРазделяем массив на две части:\n",
    "    * Левая часть: все элементы, меньшие опорного.\n",
    "\t* Правая часть: все элементы, большие или равные опорному.\n",
    "3.\tРекурсивно применяем быструю сортировку к левой и правой частям.\n",
    "4.\tКогда массивы разделены до одного элемента, все элементы оказываются на своих местах, и массив становится отсортированным.\n",
    "\n",
    "**Пошаговый пример:**\n",
    "\n",
    "Для массива [5, 2, 9, 1, 5, 6]:\n",
    "\n",
    "\t1.\tБерём 5 как опорный элемент.\n",
    "\t2.\tРазделяем массив на [2, 1] (меньше 5) и [9, 5, 6] (больше или равно 5).\n",
    "\t3.\tРекурсивно сортируем [2, 1] → [1, 2].\n",
    "\t4.\tРекурсивно сортируем [9, 5, 6] → [5, 6, 9].\n",
    "\t5.\tСобираем всё вместе → [1, 2, 5, 5, 6, 9]."
   ]
  },
  {
   "cell_type": "code",
   "execution_count": 83,
   "id": "f08efff4",
   "metadata": {},
   "outputs": [],
   "source": [
    "def quick_sort(arr):\n",
    "    if len(arr) <= 1:\n",
    "        return arr\n",
    "    \n",
    "    pivot = arr[len(arr) // 2] # Опорный элемент\n",
    "    \n",
    "    left = [x for x in arr if x < pivot]     # Элементы меньше опорного\n",
    "    \n",
    "    middle = [x for x in arr if x == pivot]  # Элементы равные опорному\n",
    "    \n",
    "    right = [x for x in arr if x > pivot]    # Элементы больше опорного\n",
    "    \n",
    "    return quick_sort(left) + middle + quick_sort(right)"
   ]
  },
  {
   "cell_type": "code",
   "execution_count": 85,
   "id": "4aecb1db",
   "metadata": {},
   "outputs": [
    {
     "name": "stdout",
     "output_type": "stream",
     "text": [
      "Время выполнения сортировки вставками: 0.06490 секунд\n",
      "Время выполнения быстрой сортировки: 0.00552 секунд\n"
     ]
    }
   ],
   "source": [
    "import random\n",
    "import time\n",
    "\n",
    "# Генерация случайного массива\n",
    "array_size = 1000\n",
    "array = [random.randint(0, 10000) for _ in range(array_size)]\n",
    "\n",
    "# Сравнение времени выполнения\n",
    "array_copy = array.copy()\n",
    "start_time = time.time()\n",
    "insertion_sort(array_copy)\n",
    "insertion_time = time.time() - start_time\n",
    "\n",
    "array_copy = array.copy()\n",
    "start_time = time.time()\n",
    "quick_sort(array_copy)\n",
    "quick_sort_time = time.time() - start_time\n",
    "\n",
    "print(f\"Время выполнения сортировки вставками: {insertion_time:.5f} секунд\")\n",
    "print(f\"Время выполнения быстрой сортировки: {quick_sort_time:.5f} секунд\")"
   ]
  },
  {
   "cell_type": "markdown",
   "id": "9d6f52b9",
   "metadata": {},
   "source": [
    "# Подсчёт количества слов в строке"
   ]
  },
  {
   "cell_type": "markdown",
   "id": "d59d25b2",
   "metadata": {},
   "source": [
    "Напишите функцию, которая принимает строку и возвращает количество слов в ней, не используя встроенные методы для работы со строками, такие как `split()`, `strip()`, `count()` и т. д. Слова разделяются одним или несколькими пробелами. Знаки препинания считаются частью слов.\n",
    "\n",
    "**Определение слова:** Непрерывная последовательность символов, отличных от пробела `(' ')`.\n",
    "\n",
    "**Пример:**\n",
    "* Вход: \"Hello,   world! How are you?\"\n",
    "* Выход: 5 (так как строка содержит пять слов)"
   ]
  },
  {
   "cell_type": "code",
   "execution_count": 87,
   "id": "39b0a6fc",
   "metadata": {},
   "outputs": [
    {
     "name": "stdout",
     "output_type": "stream",
     "text": [
      "5\n"
     ]
    }
   ],
   "source": [
    "def count_words(s):\n",
    "    count = 0\n",
    "    in_word = False\n",
    "    for i in s:\n",
    "        if i != ' ':\n",
    "            if not in_word:\n",
    "                in_word = True\n",
    "                count += 1\n",
    "        else:\n",
    "            in_word = False\n",
    "    return count\n",
    "print(count_words(\"Hello,   world! How are you? \"))  # Выход: 5"
   ]
  },
  {
   "cell_type": "code",
   "execution_count": 89,
   "id": "26767ebf-b8d4-418b-8848-ec83a958748f",
   "metadata": {},
   "outputs": [
    {
     "name": "stdout",
     "output_type": "stream",
     "text": [
      "5\n"
     ]
    }
   ],
   "source": [
    "def count_words(s):\n",
    "    l = len(s)\n",
    "    count = 0\n",
    "    for i in range(l):\n",
    "        if s[i] ==' ' and s[i + 1] != ' ':\n",
    "            count += 1\n",
    "    if s[l - 1] != ' ':\n",
    "        count += 1\n",
    "    return count\n",
    "\n",
    "print(count_words(\"Hello,   world! How are you?\"))  # Выход: 5"
   ]
  },
  {
   "cell_type": "markdown",
   "id": "9311484c",
   "metadata": {},
   "source": [
    "# Удаление дубликатов слов в строке"
   ]
  },
  {
   "cell_type": "markdown",
   "id": "66001171",
   "metadata": {},
   "source": [
    "Напишите функцию, которая принимает строку и возвращает новую строку, в которой удалены все дубликаты слов. Слова должны сохранять порядок их первого появления в исходной строке. Считайте, что слова разделяются одним или несколькими пробелами и могут содержать знаки препинания.\n",
    "\n",
    "**Условия:**\n",
    "1.\tФункция должна быть нечувствительной к регистру (например, 'Hello' и 'hello' считаются одним и тем же словом).\n",
    "2.\tСлова, оставшиеся в результирующей строке, должны сохранять регистр их первого появления.\n",
    "\n",
    "**Пример:**\n",
    "* Вход: \"This is a test. This test is only a test.\"\n",
    "* Выход: \"This is a test. only\"\n",
    "* Вход: \"Hello World world hello\"\n",
    "* Выход: \"Hello World\""
   ]
  },
  {
   "cell_type": "code",
   "execution_count": 91,
   "id": "93d6686a",
   "metadata": {},
   "outputs": [
    {
     "data": {
      "text/plain": [
       "'Hello World'"
      ]
     },
     "execution_count": 91,
     "metadata": {},
     "output_type": "execute_result"
    }
   ],
   "source": [
    "def remove_duplicate_words(s):\n",
    "    seen = set()\n",
    "    result = []\n",
    "    words = s.split()\n",
    "    for word in words:\n",
    "        word_lower = word.lower()\n",
    "        if word_lower not in seen:\n",
    "            seen.add(word_lower)\n",
    "            result.append(word)\n",
    "    return \" \".join(result)\n",
    "\n",
    "\n",
    "s = \"Hello World world hello\"\n",
    "remove_duplicate_words(s)"
   ]
  },
  {
   "cell_type": "code",
   "execution_count": null,
   "id": "0e931e1a-3fc4-4279-8c2f-a3e1a37a1f1e",
   "metadata": {},
   "outputs": [],
   "source": []
  }
 ],
 "metadata": {
  "kernelspec": {
   "display_name": "Python 3 (ipykernel)",
   "language": "python",
   "name": "python3"
  },
  "language_info": {
   "codemirror_mode": {
    "name": "ipython",
    "version": 3
   },
   "file_extension": ".py",
   "mimetype": "text/x-python",
   "name": "python",
   "nbconvert_exporter": "python",
   "pygments_lexer": "ipython3",
   "version": "3.12.3"
  }
 },
 "nbformat": 4,
 "nbformat_minor": 5
}
