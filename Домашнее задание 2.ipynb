{
 "cells": [
  {
   "cell_type": "markdown",
   "id": "1d227b09",
   "metadata": {},
   "source": [
    "# Парное выравнивание"
   ]
  },
  {
   "cell_type": "markdown",
   "id": "09ebf420",
   "metadata": {},
   "source": [
    "# Порядок сдачи домашнего"
   ]
  },
  {
   "cell_type": "markdown",
   "id": "b2e6a39f",
   "metadata": {
    "ExecuteTime": {
     "end_time": "2024-09-23T05:46:49.255523Z",
     "start_time": "2024-09-23T05:46:49.234264Z"
    }
   },
   "source": [
    "Вам требуется создать гит репозиторий куда вы будете складывать все ваши домашние. Под каждое домашнее вы создаете отдельную ветку куда вносите все изменения в рамках домашнего. Как только домашнее готово - создаете пулл реквест (обратите внимание что в пулл реквесте должны быть отражены все изменения в рамках домашнего). Ревьювером назначаете http://github.com/michael15346/ .\n",
    "Перед сдачей проверьте код, напишите тесты. Не забудьте про PEP8, например, с помощью flake8. Задание нужно делать в jupyter notebook.\n",
    "\n",
    "**Дедлайн - 21 октября 10:00**"
   ]
  },
  {
   "cell_type": "markdown",
   "id": "d33c83c9",
   "metadata": {},
   "source": [
    "# Введение\n",
    "\n",
    "**Выравнивание последовательностей** — фундаментальный инструмент в биоинформатике, позволяющий сравнивать биологические последовательности (ДНК, РНК, белки) для выявления сходства, которое может указывать на функциональные, структурные или эволюционные связи между ними.\n",
    "\n",
    "**Парное выравнивание** подразумевает сравнение двух последовательностей для определения наилучшего соответствия между их элементами (нуклеотидами или аминокислотами). Существует два основных типа парного выравнивания:\n",
    "\n",
    "- **Глобальное выравнивание**: направлено на выравнивание всей длины двух последовательностей, максимально учитывая все элементы.\n",
    "- **Локальное выравнивание**: нацелено на поиск наилучшего соответствующего участка внутри двух последовательностей.\n",
    "\n",
    "В данном домашнем задании мы с вами сконцентрируемся на **глобальном выравнивании**."
   ]
  },
  {
   "cell_type": "markdown",
   "id": "3265888c",
   "metadata": {},
   "source": [
    "### Пример парного выравнивания\n",
    "\n",
    "Рассмотрим две нуклеотидные последовательности:\n",
    "\n",
    "```\n",
    "Последовательность 1 (Seq1): A G C T A C G A\n",
    "Последовательность 2 (Seq2): G C T A G A\n",
    "```\n",
    "\n",
    "**Глобальное выравнивание** (учитывает всю длину последовательностей):\n",
    "\n",
    "```\n",
    "Seq1: A G C T A C G A\n",
    "Seq2: - G C T A - G A\n",
    "```"
   ]
  },
  {
   "cell_type": "markdown",
   "id": "575fa50e",
   "metadata": {},
   "source": [
    "### Значение выравнивания последовательностей\n",
    "\n",
    "- **Эволюционные связи**: Сходство между последовательностями может указывать на общих предков.\n",
    "- **Функциональные домены**: Выравнивание помогает идентифицировать консервативные участки, важные для функции белка или нуклеиновой кислоты.\n",
    "- **Геномные исследования**: Используется для аннотации генов, предсказания структур и понимания генетических вариаций."
   ]
  },
  {
   "cell_type": "markdown",
   "id": "75ff52f7",
   "metadata": {},
   "source": [
    "## Алгоритм выравнивания\n",
    "\n",
    "- Для автоматизации процесса выравнивания используется **Алгоритм Нидлмана-Вунша**. Он предназначен для глобального выравнивания и использует динамическое программирование для нахождения оптимального выравнивания по всей длине последовательностей. \n",
    "- Для оценки сходства при выравнивании белковых последовательностей используется матрица **BLOSUM** (Blocks Substitution Matrix). Матрицы BLOSUM создаются на основе статистического анализа реальных белковых множественных выравниваний последовательностей."
   ]
  },
  {
   "cell_type": "markdown",
   "id": "5ee2122f",
   "metadata": {},
   "source": [
    "### Пример множественного выравнивания (для построения матрциы BLOSUM)\n",
    "\n",
    "Рассмотрим нуклеотидные последовательности:\n",
    "\n",
    "```\n",
    "Последовательность 1 (Seq1): A G C T A C G T G T C G C T G A A T C T A T G A C T\n",
    "Последовательность 2 (Seq2): G C T A G A G C A A G G C A A C T G C A T C T\n",
    "Последовательность 3 (Seq3): A C T G C A C C C A T G A A C C T C G C G C T\n",
    "Последовательность 4 (Seq4): A C T G C A C C C A T G A A C C T C T C G C T\n",
    "Последовательность 5 (Seq5): A C T G C A C C C A T G A A C C T C T C G C T\n",
    "Последовательность 6 (Seq6): A C T G C A C C C A T G A A C C T C T C A C T\n",
    "Последовательность 7 (Seq7): A C T G C A C C C A T G A A C C T C T C A C T\n",
    "```\n",
    "\n",
    "**Множественное выравнивание**:\n",
    "\n",
    "```\n",
    "Seq1: A G C T A C G T G T C G C T G A A T C T A T G A C T\n",
    "Seq2: - G C T A - G A G C A - A G G C A A C T G C A T C T\n",
    "Seq3: A - C T G - C A C C C - A T G A A C C T C G C G C T\n",
    "Seq4: A - C T G - C A C C C - A T G A A C C T C T C G C T\n",
    "Seq5: A - C T G - C A C C C - A T G A A C C T C T C G C T\n",
    "Seq6: A - C T G - C A C C C - A T G A A C C T C T C A C T\n",
    "Seq7: A - C T G - C A C C C - A T G A A C C T C T C A C T\n",
    "```"
   ]
  },
  {
   "cell_type": "markdown",
   "id": "fe15af34",
   "metadata": {},
   "source": [
    "Перед тем как приступать к реализации парного выравнивания давайте научимся считать матрицу BLOSUM."
   ]
  },
  {
   "cell_type": "markdown",
   "id": "4efffee5",
   "metadata": {},
   "source": [
    "# Матрица BLOSUM"
   ]
  },
  {
   "cell_type": "markdown",
   "id": "d424f7b8",
   "metadata": {
    "ExecuteTime": {
     "end_time": "2024-09-19T05:35:03.002840Z",
     "start_time": "2024-09-19T05:35:02.980986Z"
    }
   },
   "source": [
    "## Подсчет частот пар нуклеотидов\n",
    "\n",
    "### Шаг 1.1: Генерация пар нуклеотидов\n",
    "\n",
    "Напишите функцию `generate_pairs(alignments)`, которая проходит по всем позициям выравнивания (одного столбца) и генерирует все возможные пары нуклеотидов в этой позиции.\n",
    "\n",
    "**Пример**:\n",
    "\n",
    "Рассмотрим на примере множественного выравнивания выше:\n",
    "\n",
    "```\n",
    "generate_pairs([\"A\", \"A\", \"G\"])\n",
    "[('A', 'A'), ('A', 'G'), ('A', 'G')]\n",
    "\n",
    "generate_pairs([\"T\", \"T\", \"T\"])\n",
    "[('T', 'T'), ('T', 'T'), ('T', 'T')]\n",
    "\n",
    "generate_pairs([\"G\", \"G\", \"-\"])\n",
    "[('G', 'G'), ('G', '-'), ('G', '-')]\n",
    "\n",
    "len(generate_pairs(['A', 'T', 'G', 'G', 'G', 'A', 'A']))\n",
    "21\n",
    "```"
   ]
  },
  {
   "cell_type": "code",
   "execution_count": null,
   "id": "a693a08c",
   "metadata": {
    "ExecuteTime": {
     "end_time": "2024-09-20T07:42:12.795151Z",
     "start_time": "2024-09-20T07:42:12.788005Z"
    }
   },
   "outputs": [],
   "source": [
    "alignments = [\"AGCTACGTGTCGCTGAATCTATGACT\", \n",
    "              \"-GCTA-GAGCA-AGGCAACTGCATCT\", \n",
    "              \"A-CTG-CACCC-ATGAACCTCGCGCT\",\n",
    "              \"A-CTG-CACCC-ATGAACCTCTCGCT\",\n",
    "              \"A-CTG-CACCC-ATGAACCTCTCGCT\",\n",
    "              \"A-CTG-CACCC-ATGAACCTCTCACT\",\n",
    "              \"A-CTG-CACCC-ATGAACCTCTCACT\"\n",
    "             ]"
   ]
  },
  {
   "cell_type": "code",
   "execution_count": 1,
   "id": "cc0fda11",
   "metadata": {
    "ExecuteTime": {
     "end_time": "2024-09-20T07:42:12.798926Z",
     "start_time": "2024-09-20T07:42:12.796705Z"
    }
   },
   "outputs": [
    {
     "name": "stdout",
     "output_type": "stream",
     "text": [
      "[('A', '-'), ('A', 'A'), ('A', 'A'), ('A', 'A'), ('A', 'A'), ('A', 'A'), ('-', 'A'), ('-', 'A'), ('-', 'A'), ('-', 'A'), ('-', 'A'), ('A', 'A'), ('A', 'A'), ('A', 'A'), ('A', 'A'), ('A', 'A'), ('A', 'A'), ('A', 'A'), ('A', 'A'), ('A', 'A'), ('A', 'A'), ('G', 'G'), ('G', '-'), ('G', '-'), ('G', '-'), ('G', '-'), ('G', '-'), ('G', '-'), ('G', '-'), ('G', '-'), ('G', '-'), ('G', '-'), ('-', '-'), ('-', '-'), ('-', '-'), ('-', '-'), ('-', '-'), ('-', '-'), ('-', '-'), ('-', '-'), ('-', '-'), ('-', '-'), ('C', 'C'), ('C', 'C'), ('C', 'C'), ('C', 'C'), ('C', 'C'), ('C', 'C'), ('C', 'C'), ('C', 'C'), ('C', 'C'), ('C', 'C'), ('C', 'C'), ('C', 'C'), ('C', 'C'), ('C', 'C'), ('C', 'C'), ('C', 'C'), ('C', 'C'), ('C', 'C'), ('C', 'C'), ('C', 'C'), ('C', 'C'), ('T', 'T'), ('T', 'T'), ('T', 'T'), ('T', 'T'), ('T', 'T'), ('T', 'T'), ('T', 'T'), ('T', 'T'), ('T', 'T'), ('T', 'T'), ('T', 'T'), ('T', 'T'), ('T', 'T'), ('T', 'T'), ('T', 'T'), ('T', 'T'), ('T', 'T'), ('T', 'T'), ('T', 'T'), ('T', 'T'), ('T', 'T'), ('A', 'A'), ('A', 'G'), ('A', 'G'), ('A', 'G'), ('A', 'G'), ('A', 'G'), ('A', 'G'), ('A', 'G'), ('A', 'G'), ('A', 'G'), ('A', 'G'), ('G', 'G'), ('G', 'G'), ('G', 'G'), ('G', 'G'), ('G', 'G'), ('G', 'G'), ('G', 'G'), ('G', 'G'), ('G', 'G'), ('G', 'G'), ('C', '-'), ('C', '-'), ('C', '-'), ('C', '-'), ('C', '-'), ('C', '-'), ('-', '-'), ('-', '-'), ('-', '-'), ('-', '-'), ('-', '-'), ('-', '-'), ('-', '-'), ('-', '-'), ('-', '-'), ('-', '-'), ('-', '-'), ('-', '-'), ('-', '-'), ('-', '-'), ('-', '-'), ('G', 'G'), ('G', 'C'), ('G', 'C'), ('G', 'C'), ('G', 'C'), ('G', 'C'), ('G', 'C'), ('G', 'C'), ('G', 'C'), ('G', 'C'), ('G', 'C'), ('C', 'C'), ('C', 'C'), ('C', 'C'), ('C', 'C'), ('C', 'C'), ('C', 'C'), ('C', 'C'), ('C', 'C'), ('C', 'C'), ('C', 'C'), ('T', 'A'), ('T', 'A'), ('T', 'A'), ('T', 'A'), ('T', 'A'), ('T', 'A'), ('A', 'A'), ('A', 'A'), ('A', 'A'), ('A', 'A'), ('A', 'A'), ('A', 'A'), ('A', 'A'), ('A', 'A'), ('A', 'A'), ('A', 'A'), ('A', 'A'), ('A', 'A'), ('A', 'A'), ('A', 'A'), ('A', 'A'), ('G', 'G'), ('G', 'C'), ('G', 'C'), ('G', 'C'), ('G', 'C'), ('G', 'C'), ('G', 'C'), ('G', 'C'), ('G', 'C'), ('G', 'C'), ('G', 'C'), ('C', 'C'), ('C', 'C'), ('C', 'C'), ('C', 'C'), ('C', 'C'), ('C', 'C'), ('C', 'C'), ('C', 'C'), ('C', 'C'), ('C', 'C'), ('T', 'C'), ('T', 'C'), ('T', 'C'), ('T', 'C'), ('T', 'C'), ('T', 'C'), ('C', 'C'), ('C', 'C'), ('C', 'C'), ('C', 'C'), ('C', 'C'), ('C', 'C'), ('C', 'C'), ('C', 'C'), ('C', 'C'), ('C', 'C'), ('C', 'C'), ('C', 'C'), ('C', 'C'), ('C', 'C'), ('C', 'C'), ('C', 'A'), ('C', 'C'), ('C', 'C'), ('C', 'C'), ('C', 'C'), ('C', 'C'), ('A', 'C'), ('A', 'C'), ('A', 'C'), ('A', 'C'), ('A', 'C'), ('C', 'C'), ('C', 'C'), ('C', 'C'), ('C', 'C'), ('C', 'C'), ('C', 'C'), ('C', 'C'), ('C', 'C'), ('C', 'C'), ('C', 'C'), ('G', '-'), ('G', '-'), ('G', '-'), ('G', '-'), ('G', '-'), ('G', '-'), ('-', '-'), ('-', '-'), ('-', '-'), ('-', '-'), ('-', '-'), ('-', '-'), ('-', '-'), ('-', '-'), ('-', '-'), ('-', '-'), ('-', '-'), ('-', '-'), ('-', '-'), ('-', '-'), ('-', '-'), ('C', 'A'), ('C', 'A'), ('C', 'A'), ('C', 'A'), ('C', 'A'), ('C', 'A'), ('A', 'A'), ('A', 'A'), ('A', 'A'), ('A', 'A'), ('A', 'A'), ('A', 'A'), ('A', 'A'), ('A', 'A'), ('A', 'A'), ('A', 'A'), ('A', 'A'), ('A', 'A'), ('A', 'A'), ('A', 'A'), ('A', 'A'), ('T', 'G'), ('T', 'T'), ('T', 'T'), ('T', 'T'), ('T', 'T'), ('T', 'T'), ('G', 'T'), ('G', 'T'), ('G', 'T'), ('G', 'T'), ('G', 'T'), ('T', 'T'), ('T', 'T'), ('T', 'T'), ('T', 'T'), ('T', 'T'), ('T', 'T'), ('T', 'T'), ('T', 'T'), ('T', 'T'), ('T', 'T'), ('G', 'G'), ('G', 'G'), ('G', 'G'), ('G', 'G'), ('G', 'G'), ('G', 'G'), ('G', 'G'), ('G', 'G'), ('G', 'G'), ('G', 'G'), ('G', 'G'), ('G', 'G'), ('G', 'G'), ('G', 'G'), ('G', 'G'), ('G', 'G'), ('G', 'G'), ('G', 'G'), ('G', 'G'), ('G', 'G'), ('G', 'G'), ('A', 'C'), ('A', 'A'), ('A', 'A'), ('A', 'A'), ('A', 'A'), ('A', 'A'), ('C', 'A'), ('C', 'A'), ('C', 'A'), ('C', 'A'), ('C', 'A'), ('A', 'A'), ('A', 'A'), ('A', 'A'), ('A', 'A'), ('A', 'A'), ('A', 'A'), ('A', 'A'), ('A', 'A'), ('A', 'A'), ('A', 'A'), ('A', 'A'), ('A', 'A'), ('A', 'A'), ('A', 'A'), ('A', 'A'), ('A', 'A'), ('A', 'A'), ('A', 'A'), ('A', 'A'), ('A', 'A'), ('A', 'A'), ('A', 'A'), ('A', 'A'), ('A', 'A'), ('A', 'A'), ('A', 'A'), ('A', 'A'), ('A', 'A'), ('A', 'A'), ('A', 'A'), ('A', 'A'), ('T', 'A'), ('T', 'C'), ('T', 'C'), ('T', 'C'), ('T', 'C'), ('T', 'C'), ('A', 'C'), ('A', 'C'), ('A', 'C'), ('A', 'C'), ('A', 'C'), ('C', 'C'), ('C', 'C'), ('C', 'C'), ('C', 'C'), ('C', 'C'), ('C', 'C'), ('C', 'C'), ('C', 'C'), ('C', 'C'), ('C', 'C'), ('C', 'C'), ('C', 'C'), ('C', 'C'), ('C', 'C'), ('C', 'C'), ('C', 'C'), ('C', 'C'), ('C', 'C'), ('C', 'C'), ('C', 'C'), ('C', 'C'), ('C', 'C'), ('C', 'C'), ('C', 'C'), ('C', 'C'), ('C', 'C'), ('C', 'C'), ('C', 'C'), ('C', 'C'), ('C', 'C'), ('C', 'C'), ('T', 'T'), ('T', 'T'), ('T', 'T'), ('T', 'T'), ('T', 'T'), ('T', 'T'), ('T', 'T'), ('T', 'T'), ('T', 'T'), ('T', 'T'), ('T', 'T'), ('T', 'T'), ('T', 'T'), ('T', 'T'), ('T', 'T'), ('T', 'T'), ('T', 'T'), ('T', 'T'), ('T', 'T'), ('T', 'T'), ('T', 'T'), ('A', 'G'), ('A', 'C'), ('A', 'C'), ('A', 'C'), ('A', 'C'), ('A', 'C'), ('G', 'C'), ('G', 'C'), ('G', 'C'), ('G', 'C'), ('G', 'C'), ('C', 'C'), ('C', 'C'), ('C', 'C'), ('C', 'C'), ('C', 'C'), ('C', 'C'), ('C', 'C'), ('C', 'C'), ('C', 'C'), ('C', 'C'), ('T', 'C'), ('T', 'G'), ('T', 'T'), ('T', 'T'), ('T', 'T'), ('T', 'T'), ('C', 'G'), ('C', 'T'), ('C', 'T'), ('C', 'T'), ('C', 'T'), ('G', 'T'), ('G', 'T'), ('G', 'T'), ('G', 'T'), ('T', 'T'), ('T', 'T'), ('T', 'T'), ('T', 'T'), ('T', 'T'), ('T', 'T'), ('G', 'A'), ('G', 'C'), ('G', 'C'), ('G', 'C'), ('G', 'C'), ('G', 'C'), ('A', 'C'), ('A', 'C'), ('A', 'C'), ('A', 'C'), ('A', 'C'), ('C', 'C'), ('C', 'C'), ('C', 'C'), ('C', 'C'), ('C', 'C'), ('C', 'C'), ('C', 'C'), ('C', 'C'), ('C', 'C'), ('C', 'C'), ('A', 'T'), ('A', 'G'), ('A', 'G'), ('A', 'G'), ('A', 'A'), ('A', 'A'), ('T', 'G'), ('T', 'G'), ('T', 'G'), ('T', 'A'), ('T', 'A'), ('G', 'G'), ('G', 'G'), ('G', 'A'), ('G', 'A'), ('G', 'G'), ('G', 'A'), ('G', 'A'), ('G', 'A'), ('G', 'A'), ('A', 'A'), ('C', 'C'), ('C', 'C'), ('C', 'C'), ('C', 'C'), ('C', 'C'), ('C', 'C'), ('C', 'C'), ('C', 'C'), ('C', 'C'), ('C', 'C'), ('C', 'C'), ('C', 'C'), ('C', 'C'), ('C', 'C'), ('C', 'C'), ('C', 'C'), ('C', 'C'), ('C', 'C'), ('C', 'C'), ('C', 'C'), ('C', 'C'), ('T', 'T'), ('T', 'T'), ('T', 'T'), ('T', 'T'), ('T', 'T'), ('T', 'T'), ('T', 'T'), ('T', 'T'), ('T', 'T'), ('T', 'T'), ('T', 'T'), ('T', 'T'), ('T', 'T'), ('T', 'T'), ('T', 'T'), ('T', 'T'), ('T', 'T'), ('T', 'T'), ('T', 'T'), ('T', 'T'), ('T', 'T')]\n",
      "546\n"
     ]
    }
   ],
   "source": [
    "def generate_pairs(alignments):\n",
    "    matrix = []\n",
    "    row = len(alignments)\n",
    "    column_len = len(alignments[0])  # длина одной строки, предполагаю, что все строки одинаковой длины, иначе не получится составить пары для какого-либо столбца\n",
    "    \n",
    "    for h in range(column_len):  \n",
    "        column = [alignments[k][h] for k in range(row)]\n",
    "        for i in range(len(column)):\n",
    "            for j in range(i+1, len(column)):\n",
    "                couple = (column[i], column[j])\n",
    "                matrix.append(couple)\n",
    "    return matrix\n",
    "    pass\n",
    "alignments = [\"AGCTACGTGTCGCTGAATCTATGACT\", \n",
    "              \"-GCTA-GAGCA-AGGCAACTGCATCT\", \n",
    "              \"A-CTG-CACCC-ATGAACCTCGCGCT\",\n",
    "              \"A-CTG-CACCC-ATGAACCTCTCGCT\",\n",
    "              \"A-CTG-CACCC-ATGAACCTCTCGCT\",\n",
    "              \"A-CTG-CACCC-ATGAACCTCTCACT\",\n",
    "              \"A-CTG-CACCC-ATGAACCTCTCACT\"\n",
    "             ]\n",
    "print(generate_pairs(alignments))\n",
    "print(len(generate_pairs(alignments)))"
   ]
  },
  {
   "cell_type": "markdown",
   "id": "b2a33a17",
   "metadata": {},
   "source": [
    "### Шаг 1.2: Подсчет частот пар\n",
    "\n",
    "Используйте полученные пары для подсчета частоты каждой пары нуклеотидов. Создайте словарь `pair_counts`, где ключом является кортеж из двух нуклеотидов, а значением — количество их совместных появлений. Пропуски в выравнивании нужно пропускать (если один из символ в выравнивании `'-'`)\n",
    "\n",
    "**Подсказка**: Учитывайте, что матрица симметрична, поэтому пары `('A','G')` и `('G','A')` должны считаться одинаковыми.\n",
    "\n",
    "**Пример**:\n",
    "\n",
    "```\n",
    "pair_counts = count_pairs(alignments)\n",
    "pair_counts\n",
    "{('A', 'A'): 85, ('G', 'G'): 37, ('C', 'C'): 143, ('T', 'T'): 88, ('A', 'G'): 21, \n",
    " ('C', 'G'): 31, ('A', 'T'): 10, ('C', 'T'): 16, ('A', 'C'): 33, ('G', 'T'): 14}\n",
    "```"
   ]
  },
  {
   "cell_type": "code",
   "execution_count": 3,
   "id": "70cc891c",
   "metadata": {
    "ExecuteTime": {
     "end_time": "2024-09-20T07:42:12.805520Z",
     "start_time": "2024-09-20T07:42:12.803627Z"
    }
   },
   "outputs": [
    {
     "name": "stdout",
     "output_type": "stream",
     "text": [
      "478\n"
     ]
    }
   ],
   "source": [
    "def count_pairs(alignments):\n",
    "    pair_counts = {}\n",
    "    pairs = generate_pairs(alignments)\n",
    "    n = len(pairs)\n",
    "    for pair in pairs:\n",
    "        if all(el not in ['-'] for el in pair):\n",
    "            norm_pair = tuple(sorted(pair))\n",
    "            if norm_pair in pair_counts:\n",
    "                pair_counts[norm_pair] += 1  \n",
    "            else:\n",
    "                pair_counts[norm_pair] = 1   \n",
    "    return pair_counts\n",
    "    pass\n",
    "alignments = [\"AGCTACGTGTCGCTGAATCTATGACT\", \n",
    "              \"-GCTA-GAGCA-AGGCAACTGCATCT\", \n",
    "              \"A-CTG-CACCC-ATGAACCTCGCGCT\",\n",
    "              \"A-CTG-CACCC-ATGAACCTCTCGCT\",\n",
    "              \"A-CTG-CACCC-ATGAACCTCTCGCT\",\n",
    "              \"A-CTG-CACCC-ATGAACCTCTCACT\",\n",
    "              \"A-CTG-CACCC-ATGAACCTCTCACT\"\n",
    "             ]\n",
    "pair_counts = count_pairs(alignments)\n",
    "print(sum(count_pairs(alignments).values()))"
   ]
  },
  {
   "cell_type": "markdown",
   "id": "528faeca",
   "metadata": {},
   "source": [
    "## Вычисление ожидаемых частот"
   ]
  },
  {
   "cell_type": "markdown",
   "id": "351ef841",
   "metadata": {
    "ExecuteTime": {
     "end_time": "2024-09-19T07:27:32.026037Z",
     "start_time": "2024-09-19T07:27:32.008635Z"
    }
   },
   "source": [
    "Реализуйте функцию `calculate_frequencies`, которая будет вычислять частоту нуклеотида по множественному выравниванию\n",
    "\n",
    "**Пример**:\n",
    "\n",
    "```\n",
    "freqs = calculate_frequencies(alignments)\n",
    "print(\"Частоты:\")\n",
    "for x, freq in freqs.items():\n",
    "    print(f\"{x}: {freq:.4f}\")\n",
    "    \n",
    "Частоты:\n",
    "A: 0.2439\n",
    "G: 0.1585\n",
    "C: 0.3780\n",
    "T: 0.2195\n",
    "```"
   ]
  },
  {
   "cell_type": "code",
   "execution_count": 5,
   "id": "ae017aee",
   "metadata": {
    "ExecuteTime": {
     "end_time": "2024-09-20T07:55:17.618141Z",
     "start_time": "2024-09-20T07:55:17.610470Z"
    }
   },
   "outputs": [
    {
     "name": "stdout",
     "output_type": "stream",
     "text": [
      "Частоты:\n",
      "A: 0.2439\n",
      "G: 0.1585\n",
      "C: 0.3780\n",
      "T: 0.2195\n"
     ]
    }
   ],
   "source": [
    "def calculate_frequencies(alignments):\n",
    "    len_row = len(alignments)\n",
    "    len_column = len(alignments[0])\n",
    "    freqs = {}\n",
    "    total_nucl = sum(1 for i in range(len_row) for j in range(len_column) if alignments[i][j] != '-')\n",
    "    for i in range(len_row):\n",
    "        for j in range(len_column):\n",
    "            if alignments[i][j] != '-':\n",
    "                if alignments[i][j] in freqs:\n",
    "                    freqs[alignments[i][j]] += 1/total_nucl\n",
    "                else:\n",
    "                    freqs[alignments[i][j]] = 1/total_nucl\n",
    "    return freqs\n",
    "    pass\n",
    "\n",
    "freqs = calculate_frequencies(alignments)\n",
    "print(\"Частоты:\")\n",
    "for x, freq in freqs.items():\n",
    "    print(f\"{x}: {freq:.4f}\")"
   ]
  },
  {
   "cell_type": "markdown",
   "id": "6bcd02ff",
   "metadata": {},
   "source": [
    "##  Расчет логарифмических коэффициентов"
   ]
  },
  {
   "cell_type": "markdown",
   "id": "056d0896",
   "metadata": {},
   "source": [
    "- Для каждой пары нуклеотидов `(x, y)` вычислите логарифмический коэффициент замены по формуле:\n",
    "\n",
    "\n",
    "$$S(x, y) = scale * \\log_2 \\left( \\frac{observed\\_freq[x, y]}{expected\\_freq[x, y]} \\right)$$\n",
    "\n",
    "- Здесь `observed_freq` — наблюдаемая частота пары из `pair_counts` деленное на общее количество пар, а `expected_freq` — ожидаемая частота, которую можно вычислить как `expected_freq[x, y] = freqs[x] * freqs[y]`\n",
    "\n",
    "- Для удобства представления округлите значения `S(x, y)` до целых чисел, умножив на масштабный фактор (например, 3).\n",
    "\n",
    "**Пример:**\n",
    "\n",
    "```python\n",
    "scores = calculate_scores(pair_counts, freqs)\n",
    "scores\n",
    "{('A', 'A'): 5, ('G', 'G'): 5, ('C', 'C'): 3, ('T', 'T'): 6, ('A', 'G'): 1,\n",
    " ('C', 'G'): 0, ('A', 'T'): -4, ('C', 'T'): -4, ('A', 'C'): -1, ('G', 'T'): -1}\n",
    "```\n"
   ]
  },
  {
   "cell_type": "code",
   "execution_count": 7,
   "id": "96bfcb12",
   "metadata": {
    "ExecuteTime": {
     "end_time": "2024-09-20T07:57:32.470771Z",
     "start_time": "2024-09-20T07:57:32.458314Z"
    }
   },
   "outputs": [
    {
     "data": {
      "text/plain": [
       "{('A', 'A'): 5,\n",
       " ('G', 'G'): 5,\n",
       " ('C', 'C'): 3,\n",
       " ('T', 'T'): 6,\n",
       " ('A', 'G'): 1,\n",
       " ('C', 'G'): 0,\n",
       " ('A', 'T'): -4,\n",
       " ('C', 'T'): -4,\n",
       " ('A', 'C'): -1,\n",
       " ('G', 'T'): -1}"
      ]
     },
     "execution_count": 7,
     "metadata": {},
     "output_type": "execute_result"
    }
   ],
   "source": [
    "import math\n",
    "def calculate_scores(pair_counts, freqs, scale=3):\n",
    "    expected_freq = {}\n",
    "    observed_freq = {}\n",
    "    scores = {}\n",
    "    total_pairs = sum(pair_counts.values())\n",
    "    for pair, count in pair_counts.items():\n",
    "        observed_freq[pair] = count / total_pairs\n",
    "        x, y = pair\n",
    "        expected_freq[pair] = freqs[x]*freqs[y]\n",
    "        s_x_y = scale * math.log2(observed_freq[pair]/expected_freq[pair])\n",
    "        scores[pair] = round(s_x_y)\n",
    "    return scores\n",
    "scores = calculate_scores(pair_counts, freqs)\n",
    "scores"
   ]
  },
  {
   "cell_type": "markdown",
   "id": "876ab787",
   "metadata": {},
   "source": [
    "\n",
    "## Составление матрицы BLOSUM\n",
    "\n",
    "### Шаг 4.1: Заполнение матрицы\n",
    "\n",
    "- Реализуйте функцию `create_blosum_matrix`, для создания BLOSUM матрицы.\n",
    "- Используйте рассчитанные ранее логарифмические коэффициенты `scores` для заполнения матрицы.\n",
    "- Учитывайте, что матрица симметрична: `S(x, y) = S(y, x)`.\n",
    "\n",
    "**Пример:**\n",
    "\n",
    "```python\n",
    "blosum_matrix = create_blosum_matrix(scores, nucleotides)\n",
    "blosum_matrix\n",
    "{'A': {'A': 5, 'G': 1, 'C': -1, 'T': -4},\n",
    " 'G': {'A': 1, 'G': 5, 'C': 0, 'T': -1},\n",
    " 'C': {'A': -1, 'G': 0, 'C': 3, 'T': -4},\n",
    " 'T': {'A': -4, 'G': -1, 'C': -4, 'T': 6}}\n",
    "```\n"
   ]
  },
  {
   "cell_type": "code",
   "execution_count": 9,
   "id": "e28e3f2c",
   "metadata": {
    "ExecuteTime": {
     "end_time": "2024-09-20T07:49:45.687263Z",
     "start_time": "2024-09-20T07:49:45.676996Z"
    }
   },
   "outputs": [
    {
     "data": {
      "text/plain": [
       "{'A': {'A': 5, 'G': 1, 'C': -1, 'T': -4},\n",
       " 'G': {'A': 1, 'G': 5, 'C': 0, 'T': -1},\n",
       " 'C': {'A': -1, 'G': 0, 'C': 3, 'T': -4},\n",
       " 'T': {'A': -4, 'G': -1, 'C': -4, 'T': 6}}"
      ]
     },
     "execution_count": 9,
     "metadata": {},
     "output_type": "execute_result"
    }
   ],
   "source": [
    "def create_blosum_matrix(scores,nucleotides):\n",
    "    blosum_matrix = {}\n",
    "    copy_scores = {}\n",
    "    blosum_matrix_x = {}\n",
    "    for (x, y), score in scores.items():\n",
    "        copy_scores[(x, y)] = score\n",
    "        if (y, x) not in scores:\n",
    "            copy_scores[(y, x)] = score\n",
    "        \n",
    "    for (x,y),count in copy_scores.items():\n",
    "        if x not in blosum_matrix:\n",
    "            blosum_matrix[x] = {}\n",
    "        blosum_matrix[x][y] = count\n",
    "    sorted_blosum_matrix = {sorted_key: dict(sorted(blosum_matrix[sorted_key].items(), key = lambda item: nucleotides.index(item[0])))\n",
    "                           for sorted_key in sorted(blosum_matrix.keys(), key = lambda sorted_key: nucleotides.index(sorted_key))}\n",
    "    return sorted_blosum_matrix \n",
    "    pass\n",
    "nucleotides = ['A', 'G', 'C', 'T']\n",
    "blosum_matrix = create_blosum_matrix(scores,nucleotides)\n",
    "blosum_matrix"
   ]
  },
  {
   "cell_type": "markdown",
   "id": "f3b9efbe",
   "metadata": {
    "ExecuteTime": {
     "end_time": "2024-09-19T07:55:20.436835Z",
     "start_time": "2024-09-19T07:55:20.420618Z"
    }
   },
   "source": [
    "### Шаг 4.2: Вывод матрицы\n",
    "\n",
    "- Выведите матрицу BLOSUM в удобочитаемом формате, например, как таблицу с заголовками.\n",
    "\n",
    "**Пример:**\n",
    "\n",
    "```python\n",
    "print_blosum_matrix(blosum_matrix, nucleotides)\n",
    "    A   G   C   T\n",
    "A   5   1  -1  -4\n",
    "G   1   5   0  -1\n",
    "C  -1   0   3  -4\n",
    "T  -4  -1  -4   6\n",
    "```"
   ]
  },
  {
   "cell_type": "code",
   "execution_count": 11,
   "id": "93ee6754",
   "metadata": {
    "ExecuteTime": {
     "end_time": "2024-09-20T07:50:02.894882Z",
     "start_time": "2024-09-20T07:50:02.881450Z"
    }
   },
   "outputs": [
    {
     "data": {
      "text/html": [
       "<div>\n",
       "<style scoped>\n",
       "    .dataframe tbody tr th:only-of-type {\n",
       "        vertical-align: middle;\n",
       "    }\n",
       "\n",
       "    .dataframe tbody tr th {\n",
       "        vertical-align: top;\n",
       "    }\n",
       "\n",
       "    .dataframe thead th {\n",
       "        text-align: right;\n",
       "    }\n",
       "</style>\n",
       "<table border=\"1\" class=\"dataframe\">\n",
       "  <thead>\n",
       "    <tr style=\"text-align: right;\">\n",
       "      <th></th>\n",
       "      <th>A</th>\n",
       "      <th>G</th>\n",
       "      <th>C</th>\n",
       "      <th>T</th>\n",
       "    </tr>\n",
       "  </thead>\n",
       "  <tbody>\n",
       "    <tr>\n",
       "      <th>A</th>\n",
       "      <td>5</td>\n",
       "      <td>1</td>\n",
       "      <td>-1</td>\n",
       "      <td>-4</td>\n",
       "    </tr>\n",
       "    <tr>\n",
       "      <th>G</th>\n",
       "      <td>1</td>\n",
       "      <td>5</td>\n",
       "      <td>0</td>\n",
       "      <td>-1</td>\n",
       "    </tr>\n",
       "    <tr>\n",
       "      <th>C</th>\n",
       "      <td>-1</td>\n",
       "      <td>0</td>\n",
       "      <td>3</td>\n",
       "      <td>-4</td>\n",
       "    </tr>\n",
       "    <tr>\n",
       "      <th>T</th>\n",
       "      <td>-4</td>\n",
       "      <td>-1</td>\n",
       "      <td>-4</td>\n",
       "      <td>6</td>\n",
       "    </tr>\n",
       "  </tbody>\n",
       "</table>\n",
       "</div>"
      ],
      "text/plain": [
       "   A  G  C  T\n",
       "A  5  1 -1 -4\n",
       "G  1  5  0 -1\n",
       "C -1  0  3 -4\n",
       "T -4 -1 -4  6"
      ]
     },
     "execution_count": 11,
     "metadata": {},
     "output_type": "execute_result"
    }
   ],
   "source": [
    "import pandas as pd\n",
    "def print_blosum_matrix(matrix, nucleotides):\n",
    "    matrix = pd.DataFrame(blosum_matrix)\n",
    "    return matrix\n",
    "    pass\n",
    "print_blosum_matrix(blosum_matrix, nucleotides)"
   ]
  },
  {
   "cell_type": "markdown",
   "id": "990c0c7a",
   "metadata": {},
   "source": [
    "## Визуализация результатов\n",
    "\n",
    "Запустите код для визуализации результатов. Здесь вам понадобится установить библиотеки. Для этого в консоли выполните:\n",
    "```\n",
    "pip install numpy\n",
    "pip install seaborn\n",
    "pip install matplotlib\n",
    "```"
   ]
  },
  {
   "cell_type": "code",
   "execution_count": 13,
   "id": "e6dc51ef",
   "metadata": {
    "ExecuteTime": {
     "end_time": "2024-09-20T07:50:05.193727Z",
     "start_time": "2024-09-20T07:50:05.053305Z"
    }
   },
   "outputs": [
    {
     "name": "stdout",
     "output_type": "stream",
     "text": [
      "Requirement already satisfied: numpy in c:\\users\\professional\\anaconda3\\lib\\site-packages (1.26.4)\n",
      "Requirement already satisfied: seaborn in c:\\users\\professional\\anaconda3\\lib\\site-packages (0.13.2)\n",
      "Requirement already satisfied: numpy!=1.24.0,>=1.20 in c:\\users\\professional\\anaconda3\\lib\\site-packages (from seaborn) (1.26.4)\n",
      "Requirement already satisfied: pandas>=1.2 in c:\\users\\professional\\anaconda3\\lib\\site-packages (from seaborn) (2.2.2)\n",
      "Requirement already satisfied: matplotlib!=3.6.1,>=3.4 in c:\\users\\professional\\anaconda3\\lib\\site-packages (from seaborn) (3.8.4)\n",
      "Requirement already satisfied: contourpy>=1.0.1 in c:\\users\\professional\\anaconda3\\lib\\site-packages (from matplotlib!=3.6.1,>=3.4->seaborn) (1.2.0)\n",
      "Requirement already satisfied: cycler>=0.10 in c:\\users\\professional\\anaconda3\\lib\\site-packages (from matplotlib!=3.6.1,>=3.4->seaborn) (0.11.0)\n",
      "Requirement already satisfied: fonttools>=4.22.0 in c:\\users\\professional\\anaconda3\\lib\\site-packages (from matplotlib!=3.6.1,>=3.4->seaborn) (4.51.0)\n",
      "Requirement already satisfied: kiwisolver>=1.3.1 in c:\\users\\professional\\anaconda3\\lib\\site-packages (from matplotlib!=3.6.1,>=3.4->seaborn) (1.4.4)\n",
      "Requirement already satisfied: packaging>=20.0 in c:\\users\\professional\\anaconda3\\lib\\site-packages (from matplotlib!=3.6.1,>=3.4->seaborn) (23.2)\n",
      "Requirement already satisfied: pillow>=8 in c:\\users\\professional\\anaconda3\\lib\\site-packages (from matplotlib!=3.6.1,>=3.4->seaborn) (10.3.0)\n",
      "Requirement already satisfied: pyparsing>=2.3.1 in c:\\users\\professional\\anaconda3\\lib\\site-packages (from matplotlib!=3.6.1,>=3.4->seaborn) (3.0.9)\n",
      "Requirement already satisfied: python-dateutil>=2.7 in c:\\users\\professional\\anaconda3\\lib\\site-packages (from matplotlib!=3.6.1,>=3.4->seaborn) (2.9.0.post0)\n",
      "Requirement already satisfied: pytz>=2020.1 in c:\\users\\professional\\anaconda3\\lib\\site-packages (from pandas>=1.2->seaborn) (2024.1)\n",
      "Requirement already satisfied: tzdata>=2022.7 in c:\\users\\professional\\anaconda3\\lib\\site-packages (from pandas>=1.2->seaborn) (2023.3)\n",
      "Requirement already satisfied: six>=1.5 in c:\\users\\professional\\anaconda3\\lib\\site-packages (from python-dateutil>=2.7->matplotlib!=3.6.1,>=3.4->seaborn) (1.16.0)\n",
      "Requirement already satisfied: matplotlib in c:\\users\\professional\\anaconda3\\lib\\site-packages (3.8.4)\n",
      "Requirement already satisfied: contourpy>=1.0.1 in c:\\users\\professional\\anaconda3\\lib\\site-packages (from matplotlib) (1.2.0)\n",
      "Requirement already satisfied: cycler>=0.10 in c:\\users\\professional\\anaconda3\\lib\\site-packages (from matplotlib) (0.11.0)\n",
      "Requirement already satisfied: fonttools>=4.22.0 in c:\\users\\professional\\anaconda3\\lib\\site-packages (from matplotlib) (4.51.0)\n",
      "Requirement already satisfied: kiwisolver>=1.3.1 in c:\\users\\professional\\anaconda3\\lib\\site-packages (from matplotlib) (1.4.4)\n",
      "Requirement already satisfied: numpy>=1.21 in c:\\users\\professional\\anaconda3\\lib\\site-packages (from matplotlib) (1.26.4)\n",
      "Requirement already satisfied: packaging>=20.0 in c:\\users\\professional\\anaconda3\\lib\\site-packages (from matplotlib) (23.2)\n",
      "Requirement already satisfied: pillow>=8 in c:\\users\\professional\\anaconda3\\lib\\site-packages (from matplotlib) (10.3.0)\n",
      "Requirement already satisfied: pyparsing>=2.3.1 in c:\\users\\professional\\anaconda3\\lib\\site-packages (from matplotlib) (3.0.9)\n",
      "Requirement already satisfied: python-dateutil>=2.7 in c:\\users\\professional\\anaconda3\\lib\\site-packages (from matplotlib) (2.9.0.post0)\n",
      "Requirement already satisfied: six>=1.5 in c:\\users\\professional\\anaconda3\\lib\\site-packages (from python-dateutil>=2.7->matplotlib) (1.16.0)\n"
     ]
    },
    {
     "data": {
      "image/png": "[encoded data removed]",
      "text/plain": [
       "<Figure size 1000x800 with 2 Axes>"
      ]
     },
     "metadata": {},
     "output_type": "display_data"
    }
   ],
   "source": [
    "!pip install numpy\n",
    "!pip install seaborn\n",
    "!pip install matplotlib\n",
    "import numpy as np\n",
    "import seaborn as sns\n",
    "import matplotlib.pyplot as plt\n",
    "\n",
    "def visualize_blosum_matrix(matrix, nucleotides):\n",
    "    data = np.array([[matrix[x][y] for y in nucleotides] for x in nucleotides])\n",
    "    plt.figure(figsize=(10, 8))\n",
    "    sns.heatmap(data, xticklabels=nucleotides, yticklabels=nucleotides, annot=True, cmap=\"coolwarm\")\n",
    "    plt.title(\"Матрица BLOSUM\")\n",
    "    plt.show()\n",
    "\n",
    "# Пример использования\n",
    "visualize_blosum_matrix(blosum_matrix, nucleotides)"
   ]
  },
  {
   "cell_type": "markdown",
   "id": "ea3ccc74",
   "metadata": {},
   "source": [
    "# Реализация алгоритма Нидлмана-Вунша"
   ]
  },
  {
   "cell_type": "markdown",
   "id": "5c4b370c",
   "metadata": {},
   "source": [
    "### Шаг 5: Инициализация матрицы динамического программирования\n",
    "\n",
    "Теперь перейдём к реализации алгоритма [Нидлмана-Вунша](https://en.wikipedia.org/wiki/Needleman%E2%80%93Wunsch_algorithm).\n",
    "\n",
    "Реализуйте функцию `init`, которая по $m, n$ и ошибке $\\sigma$ строит матрицу c $m + 1$ строкой и $n + 1$ столбцом:\n",
    "\n",
    "$$A_{m,n} = \\begin{pmatrix} 0 & -\\sigma & \\cdots & -n \\sigma \\\\ -\\sigma & 0 & \\cdots & 0 \\\\ \\vdots & \\vdots & \\ddots & \\vdots \\\\ -m\\sigma & 0 & \\cdots & 0 \\end{pmatrix} $$\n",
    "\n",
    "**Пример:**\n",
    "\n",
    "```python\n",
    "print(init(3, 3, 4))\n",
    "[[0, -4, -8, -12], [-4, 0, 0, 0], [-8, 0, 0, 0], [-12, 0, 0, 0]]\n",
    "```"
   ]
  },
  {
   "cell_type": "code",
   "execution_count": 14,
   "id": "c283ca17",
   "metadata": {
    "ExecuteTime": {
     "end_time": "2024-09-20T07:42:13.891859Z",
     "start_time": "2024-09-20T07:42:13.889917Z"
    }
   },
   "outputs": [
    {
     "name": "stdout",
     "output_type": "stream",
     "text": [
      "[[0, -4, -8, -12, -16], [-4, 0, 0, 0, 0], [-8, 0, 0, 0, 0], [-12, 0, 0, 0, 0]]\n"
     ]
    }
   ],
   "source": [
    "def init(rows, cols, gap_penalty=10):\n",
    "    matrix = [[0 for i in range(cols + 1)] for j in range(rows + 1)]\n",
    "    #длина строки зависит от кол-ва столбцов и наоборот\n",
    "    for row in range(rows + 1):\n",
    "        matrix[row][0] = -gap_penalty * row\n",
    "    for col in range(cols + 1):\n",
    "        matrix[0][col] = -gap_penalty * col\n",
    "    return matrix\n",
    "print(init(3, 4, 4))"
   ]
  },
  {
   "cell_type": "markdown",
   "id": "bfeb18d8",
   "metadata": {
    "ExecuteTime": {
     "end_time": "2024-09-20T05:07:36.025808Z",
     "start_time": "2024-09-20T05:07:36.015828Z"
    }
   },
   "source": [
    "### Шаг 6: Заполнение матрицы динамического программирования"
   ]
  },
  {
   "cell_type": "markdown",
   "id": "6cf519aa",
   "metadata": {},
   "source": [
    "Пусть `a` и `b` - две последовательности, которые хотим выравнять. Теперь имея пустую матрицу, нужно научиться её заполнять. Для этого вспомним, как вычисляется очередной элемент матрицы:\n",
    "\n",
    "$$A_{i \\ j} = max \\begin{cases} A_{i-1 \\ j-1} + s(a_{i},b_{j}) & \\ \\text{Match / Mismatch}\\\\ A_{i \\ j-1} - \\sigma & \\ \\text{Insertion} \\\\ A_{i-1\\ j} - \\sigma & \\ \\text{Deletion} \\end{cases}$$\n",
    "\n",
    "где $s(a_{i},b_{j})$ - значение матрицы BLOSUM для нуклеотидов $a_{i}$ и $b_{j}$, $\\sigma$ - штраф за пропуск символа в выравнивании (параметр)"
   ]
  },
  {
   "cell_type": "markdown",
   "id": "29cceaaf",
   "metadata": {},
   "source": [
    "### Шаг 7: Вычисление значения матрицы"
   ]
  },
  {
   "cell_type": "markdown",
   "id": "13d9795b",
   "metadata": {},
   "source": [
    "Реализуйте функцию `get_new_score`, которая принимает на вход 5 параметров - `up` ($A_{i-1\\ j}$), `left` ($A_{i \\ j-1}$), `middle` ($A_{i-1 \\ j-1}$), `s_score` ($s(a_{i},b_{j})$), `gap_penalty` ($\\sigma$), и вычисляет значение для матрицы $A_{i\\ j}$\n",
    "\n",
    "**Пример:**\n",
    "\n",
    "```python\n",
    "print(get_new_score(0, 10, 2, 0, 2))\n",
    "8\n",
    "print(get_new_score(-16, -7, -14, 0, 2))\n",
    "-9\n",
    "```"
   ]
  },
  {
   "cell_type": "code",
   "execution_count": 17,
   "id": "6aba390b",
   "metadata": {
    "ExecuteTime": {
     "end_time": "2024-09-20T07:42:13.901858Z",
     "start_time": "2024-09-20T07:42:13.899848Z"
    }
   },
   "outputs": [
    {
     "name": "stdout",
     "output_type": "stream",
     "text": [
      "8\n",
      "-9\n"
     ]
    }
   ],
   "source": [
    "def get_new_score(up, left, middle, s_score, gap_penalty):\n",
    "    A = max(middle + s_score, left - gap_penalty, up - gap_penalty)\n",
    "    return A\n",
    "print(get_new_score(0, 10, 2, 0, 2))\n",
    "print(get_new_score(-16, -7, -14, 0, 2))"
   ]
  },
  {
   "cell_type": "markdown",
   "id": "c4efe8f2",
   "metadata": {},
   "source": [
    "### Шаг 8 Заполнение матрицы"
   ]
  },
  {
   "cell_type": "markdown",
   "id": "2139631a",
   "metadata": {},
   "source": [
    "Реализуйте функцию `align`,  которая на вход принимает две последовательности ДНК, штраф за пропуск ($\\sigma$), матрицу BLOSUM и возвращает заполненную матрицу `A`.\n",
    "\n",
    "**Пример:**\n",
    "\n",
    "```python\n",
    "top_seq = \"AGTACGCA\"\n",
    "bottom_seq = \"TATGC\"\n",
    "gap_penalty = 2\n",
    "\n",
    "print(align(top_seq, bottom_seq, gap_penalty, blosum_matrix))\n",
    "[[0, -2, -4, -6, -8, -10, -12, -14, -16],\n",
    " [-2, -4, -3, 2, 0, -2, -4, -6, -8],\n",
    " [-4, 3, 1, 0, 7, 5, 3, 1, -1],\n",
    " [-6, 1, 2, 7, 5, 3, 4, 2, 0],\n",
    " [-8, -1, 6, 5, 8, 6, 8, 6, 4],\n",
    " [-10, -3, 4, 3, 6, 11, 9, 11, 9]]\n",
    "```"
   ]
  },
  {
   "cell_type": "code",
   "execution_count": null,
   "id": "889554a2",
   "metadata": {
    "ExecuteTime": {
     "end_time": "2024-09-20T07:42:13.907603Z",
     "start_time": "2024-09-20T07:42:13.906050Z"
    }
   },
   "outputs": [],
   "source": [
    "top_seq = \"AGTACGCA\"\n",
    "bottom_seq = \"TATGC\"\n",
    "gap_penalty = 2"
   ]
  },
  {
   "cell_type": "code",
   "execution_count": 19,
   "id": "e2f22469",
   "metadata": {
    "ExecuteTime": {
     "end_time": "2024-09-20T07:42:13.914057Z",
     "start_time": "2024-09-20T07:42:13.908397Z"
    }
   },
   "outputs": [
    {
     "name": "stdout",
     "output_type": "stream",
     "text": [
      "  0  -2  -4  -6  -8 -10 -12 -14 -16\n",
      " -2  -4  -3   2   0  -2  -4  -6  -8\n",
      " -4   3   1   0   7   5   3   1  -1\n",
      " -6   1   2   7   5   3   4   2   0\n",
      " -8  -1   6   5   8   6   8   6   4\n",
      "-10  -3   4   3   6  11   9  11   9\n"
     ]
    }
   ],
   "source": [
    "def align(top_seq, bottom_seq, gap_penalty, blosum_matrix):\n",
    "    len_row = len(bottom_seq)\n",
    "    len_column = len(top_seq)\n",
    "    matrix_A = init(len_row, len_column, gap_penalty)\n",
    "    for column in range(1, len_column + 1):\n",
    "        for row in range(1, len_row + 1):\n",
    "            top_char = top_seq[column - 1]\n",
    "            bottom_char = bottom_seq[row - 1]\n",
    "            s_score = blosum_matrix[bottom_char][top_char]\n",
    "\n",
    "            up = matrix_A[row - 1][column]\n",
    "            left = matrix_A[row][column - 1]\n",
    "            middle = matrix_A[row - 1][column - 1]\n",
    "\n",
    "            matrix_A[row][column] = get_new_score(up, left, middle, s_score, gap_penalty)\n",
    "\n",
    "    return matrix_A\n",
    "top_seq = \"AGTACGCA\"\n",
    "bottom_seq = \"TATGC\"\n",
    "gap_penalty = 2\n",
    "def print_matrix(matrix):\n",
    "    for row in matrix:\n",
    "        formatted_row = \" \".join(f\"{val:3}\" for val in row)\n",
    "        print(formatted_row)\n",
    "\n",
    "alignment_matrix = align(top_seq, bottom_seq, gap_penalty, blosum_matrix)\n",
    "print_matrix(alignment_matrix)"
   ]
  },
  {
   "cell_type": "markdown",
   "id": "f68198b6",
   "metadata": {
    "ExecuteTime": {
     "end_time": "2024-09-20T06:44:17.331762Z",
     "start_time": "2024-09-20T06:44:17.321308Z"
    }
   },
   "source": [
    "### Шаг 9: Построение выравнивания\n",
    "\n",
    "Теперь имея матрицу выравнивания построим самое выравнивание.\n",
    "\n",
    "Реализуйте функцию get_alignment, которая по двум последовательностям, матрице выравнивания, штрафа за пропуски, бонусам за совпадение/несовпадение нуклеотидов строит выравнивание.\n",
    "\n",
    "**Пример:**\n",
    "\n",
    "```python\n",
    "\n",
    "top_seq = \"AGTACGCA\"\n",
    "bottom_seq = \"TATGC\"\n",
    "gap_penalty = 2\n",
    "sm = align(top_seq, bottom_seq, gap_penalty, blosum_matrix)\n",
    "aligns = get_alignment(top_seq, bottom_seq, sm, gap_penalty, blosum_matrix)\n",
    "print(aligns[0])\n",
    "print(aligns[1])\n",
    "TA-T--GC-\n",
    "-AGTACGCA\n",
    "\n",
    "top_seq = \"AGTCTCCCCC\"\n",
    "bottom_seq = \"ACTTCTACCCCAGC\"\n",
    "sm = align(top_seq, bottom_seq, gap_penalty, blosum_matrix)\n",
    "aligns = get_alignment(top_seq, bottom_seq, sm, gap_penalty, blosum_matrix)\n",
    "print(aligns[0])\n",
    "print(aligns[1])\n",
    "ACTTCTACCCCAGC\n",
    "AGT-CT-CCCC--C\n",
    "```"
   ]
  },
  {
   "cell_type": "code",
   "execution_count": 21,
   "id": "4449d97e",
   "metadata": {
    "ExecuteTime": {
     "end_time": "2024-09-20T07:42:13.929902Z",
     "start_time": "2024-09-20T07:42:13.928023Z"
    }
   },
   "outputs": [
    {
     "name": "stdout",
     "output_type": "stream",
     "text": [
      "--TATGC-\n",
      "AGTACGCA\n",
      "ACTTCTACCCCAGC\n",
      "AG-TCT-CCCC--C\n"
     ]
    }
   ],
   "source": [
    "def get_alignment(top_seq, bottom_seq, sm, gap_penalty, blosum_matrix):\n",
    "    i = len(bottom_seq)\n",
    "    j = len(top_seq)   \n",
    "    alignment_A = \"\"\n",
    "    alignment_B = \"\"\n",
    "\n",
    "    while i > 0 or j > 0:\n",
    "        if i > 0 and j > 0 and sm[i][j] == sm[i-1][j-1] + blosum_matrix[bottom_seq[i-1]][top_seq[j-1]]:\n",
    "            alignment_A = bottom_seq[i-1] + alignment_A  \n",
    "            alignment_B = top_seq[j-1] + alignment_B   \n",
    "            i -= 1\n",
    "            j -= 1\n",
    "        elif i > 0 and sm[i][j] == sm[i-1][j] - gap_penalty:\n",
    "            alignment_A = bottom_seq[i-1] + alignment_A  \n",
    "            alignment_B = \"-\" + alignment_B     \n",
    "            i -= 1\n",
    "        elif j > 0 and sm[i][j] == sm[i][j-1] - gap_penalty:\n",
    "            alignment_A = \"-\" + alignment_A            \n",
    "            alignment_B = top_seq[j-1] + alignment_B\n",
    "            j -= 1\n",
    "\n",
    "    return alignment_A, alignment_B\n",
    "\n",
    "top_seq = \"AGTACGCA\"\n",
    "bottom_seq = \"TATGC\"\n",
    "gap_penalty = 2\n",
    "sm = align(top_seq, bottom_seq, gap_penalty, blosum_matrix)\n",
    "aligns = get_alignment(top_seq, bottom_seq, sm, gap_penalty, blosum_matrix)\n",
    "print(aligns[0])\n",
    "print(aligns[1])\n",
    "\n",
    "top_seq = \"AGTCTCCCCC\"\n",
    "bottom_seq = \"ACTTCTACCCCAGC\"\n",
    "sm = align(top_seq, bottom_seq, gap_penalty, blosum_matrix)\n",
    "aligns = get_alignment(top_seq, bottom_seq, sm, gap_penalty, blosum_matrix)\n",
    "print(aligns[0])\n",
    "print(aligns[1])"
   ]
  },
  {
   "cell_type": "markdown",
   "id": "0c8daed3",
   "metadata": {
    "ExecuteTime": {
     "end_time": "2024-09-20T08:00:23.468052Z",
     "start_time": "2024-09-20T08:00:23.453507Z"
    }
   },
   "source": [
    "## Поздравляю! Мы научились выравнивать ДНК!"
   ]
  }
 ],
 "metadata": {
  "kernelspec": {
   "display_name": "Python 3 (ipykernel)",
   "language": "python",
   "name": "python3"
  },
  "language_info": {
   "codemirror_mode": {
    "name": "ipython",
    "version": 3
   },
   "file_extension": ".py",
   "mimetype": "text/x-python",
   "name": "python",
   "nbconvert_exporter": "python",
   "pygments_lexer": "ipython3",
   "version": "3.12.4"
  }
 },
 "nbformat": 4,
 "nbformat_minor": 5
}
