{
 "cells": [
  {
   "cell_type": "code",
   "execution_count": 1,
   "id": "0073e5f5-5d06-4503-b188-678e32a76928",
   "metadata": {},
   "outputs": [],
   "source": [
    "# 1. Привести различные способы создания объектов типа Series\n",
    "# Для создания Series можно использовать\n",
    "# - списки Python или массивы NumPy\n",
    "# - скалярные значение\n",
    "# - словари"
   ]
  },
  {
   "cell_type": "code",
   "execution_count": 5,
   "id": "f33b2694-ac7b-403b-897f-65268dc1de0b",
   "metadata": {},
   "outputs": [],
   "source": [
    "import pandas as pd\n",
    "import numpy as np\n",
    "\n",
    "s1 = pd.Series([10,20,30,40])\n",
    "\n",
    "arr = np.array([5, 6, 7])\n",
    "s2 = pd.Series(arr)"
   ]
  },
  {
   "cell_type": "code",
   "execution_count": 7,
   "id": "3c962a60-2e10-42f6-92b9-ec5384021fa5",
   "metadata": {},
   "outputs": [
    {
     "name": "stdout",
     "output_type": "stream",
     "text": [
      "0    10\n",
      "1    20\n",
      "2    30\n",
      "3    40\n",
      "dtype: int64\n",
      "0    5\n",
      "1    6\n",
      "2    7\n",
      "dtype: int32\n"
     ]
    }
   ],
   "source": [
    "print(s1)\n",
    "print(s2)"
   ]
  },
  {
   "cell_type": "code",
   "execution_count": 9,
   "id": "a365901d-24b4-402f-a512-acc6109f10f9",
   "metadata": {},
   "outputs": [],
   "source": [
    "s3 = pd.Series(5, index = ['a', 'b', 'c'])\n",
    "s4 = pd.Series(5)"
   ]
  },
  {
   "cell_type": "code",
   "execution_count": 11,
   "id": "6640536b-939b-479e-b740-a9137f93c9b1",
   "metadata": {},
   "outputs": [
    {
     "name": "stdout",
     "output_type": "stream",
     "text": [
      "a    5\n",
      "b    5\n",
      "c    5\n",
      "dtype: int64\n",
      "0    5\n",
      "dtype: int64\n"
     ]
    }
   ],
   "source": [
    "print(s3)\n",
    "print(s4)"
   ]
  },
  {
   "cell_type": "code",
   "execution_count": 28,
   "id": "3fe93566-6284-4143-a32f-1f33a7211f3e",
   "metadata": {},
   "outputs": [],
   "source": [
    "dict_A = {'a':10, 'b':20, 'c':30}\n",
    "s5 = pd.Series(dict)\n",
    "\n",
    "s6 = pd.Series(dict, index = ['b', 'c', 'd'])"
   ]
  },
  {
   "cell_type": "code",
   "execution_count": 30,
   "id": "622e13cf-518a-4cf6-b758-e84ff330074e",
   "metadata": {},
   "outputs": [
    {
     "name": "stdout",
     "output_type": "stream",
     "text": [
      "a    10\n",
      "b    20\n",
      "c    30\n",
      "dtype: int64\n",
      "b    20.0\n",
      "c    30.0\n",
      "d     NaN\n",
      "dtype: float64\n"
     ]
    }
   ],
   "source": [
    "print(s5)\n",
    "print(s6)"
   ]
  },
  {
   "cell_type": "code",
   "execution_count": 17,
   "id": "d3899286-942f-47c3-aee4-b18876f358e9",
   "metadata": {},
   "outputs": [],
   "source": [
    "# 2. Привести различные способы создания объектов типа DataFrame\n",
    "# DataFrame. Способы создания\n",
    "# - через объекты Series\n",
    "# - списки словарей\n",
    "# - словари объектов Series\n",
    "# - двумерный массив NumPy\n",
    "# - структурированный массив Numpy"
   ]
  },
  {
   "cell_type": "code",
   "execution_count": 24,
   "id": "f8e76b2e-920a-4430-b63c-0c9a734ff3ff",
   "metadata": {},
   "outputs": [],
   "source": [
    "s21 = pd.Series([1,2,3], name = 'A')\n",
    "s22 = pd.Series(['x','y','z'], name = 'B')\n",
    "df = pd.DataFrame({'Column1':s21,'Column2':s22})"
   ]
  },
  {
   "cell_type": "code",
   "execution_count": 26,
   "id": "1476e4fd-4f71-48a2-ac37-9c4cc9fc9cdc",
   "metadata": {},
   "outputs": [
    {
     "name": "stdout",
     "output_type": "stream",
     "text": [
      "0    1\n",
      "1    2\n",
      "2    3\n",
      "Name: A, dtype: int64\n",
      "0    x\n",
      "1    y\n",
      "2    z\n",
      "Name: B, dtype: object\n",
      "   Column1 Column2\n",
      "0        1       x\n",
      "1        2       y\n",
      "2        3       z\n"
     ]
    }
   ],
   "source": [
    "print(s21)\n",
    "print(s22)\n",
    "print(df)"
   ]
  },
  {
   "cell_type": "code",
   "execution_count": 48,
   "id": "aabe55f6-6d2a-4452-b291-0393b660bf54",
   "metadata": {},
   "outputs": [],
   "source": [
    "data_B = [\n",
    "    {'Name':'Pedro', 'Age': 20},\n",
    "    {'Name':'Barbara', 'Age': 18},\n",
    "    {'Name':'Sonya', 'Age':45}\n",
    "]\n",
    "df_2 = pd.DataFrame(data_B)"
   ]
  },
  {
   "cell_type": "code",
   "execution_count": 50,
   "id": "70aea4d5-68cb-4dae-b24a-385437c8f640",
   "metadata": {},
   "outputs": [
    {
     "name": "stdout",
     "output_type": "stream",
     "text": [
      "      Name  Age\n",
      "0    Pedro   20\n",
      "1  Barbara   18\n",
      "2    Sonya   45\n"
     ]
    }
   ],
   "source": [
    "print(df_2)"
   ]
  },
  {
   "cell_type": "code",
   "execution_count": 60,
   "id": "73830012-3dca-4c87-8ff3-7e6df9bc812f",
   "metadata": {},
   "outputs": [],
   "source": [
    "data_C = {\n",
    "    'Name': ['Pedro', 'Barbara', 'Sonya'],\n",
    "    'Age': [20,18,45],\n",
    "    'Country' : ['St.Petersburg', 'Moscow', 'Lisbon']\n",
    "}\n",
    "df_3 = pd.DataFrame(data_C)"
   ]
  },
  {
   "cell_type": "code",
   "execution_count": 62,
   "id": "56c58711-b968-43c2-a01b-b3f8d1e99bea",
   "metadata": {},
   "outputs": [
    {
     "name": "stdout",
     "output_type": "stream",
     "text": [
      "      Name  Age        Country\n",
      "0    Pedro   20  St.Petersburg\n",
      "1  Barbara   18         Moscow\n",
      "2    Sonya   45         Lisbon\n"
     ]
    }
   ],
   "source": [
    "print(df_3)"
   ]
  },
  {
   "cell_type": "code",
   "execution_count": 66,
   "id": "1a178c36-05ef-4925-938f-7561087e4525",
   "metadata": {},
   "outputs": [],
   "source": [
    "arr_2 = ([\n",
    "    [1,2,3],\n",
    "    [4,5,6],\n",
    "    [7,8,9]\n",
    "])\n",
    "df_4 = pd.DataFrame(arr_2, columns = ['A', 'B', 'C'])"
   ]
  },
  {
   "cell_type": "code",
   "execution_count": 68,
   "id": "06b11c34-7b97-48dd-a99b-c2fa13db5398",
   "metadata": {},
   "outputs": [
    {
     "name": "stdout",
     "output_type": "stream",
     "text": [
      "   A  B  C\n",
      "0  1  2  3\n",
      "1  4  5  6\n",
      "2  7  8  9\n"
     ]
    }
   ],
   "source": [
    "print(df_4)"
   ]
  },
  {
   "cell_type": "code",
   "execution_count": 84,
   "id": "18985579-1914-4b99-b5c6-5c03fa1f659b",
   "metadata": {},
   "outputs": [],
   "source": [
    "type = [('Name', 'U10'), ('Age', 'i4'), ('Sity', 'U10')]\n",
    "data_3 = np.array(\n",
    "    [('Pedro', 20, 'Santiago'), ('Barbara', 213456, 'Brazilia'), ('Sonya', 19, 'Mexico-City')],\n",
    "    dtype = type\n",
    ")\n",
    "df_5 = pd.DataFrame(data_3)"
   ]
  },
  {
   "cell_type": "code",
   "execution_count": 86,
   "id": "0350f431-214d-4d97-af68-0d7e6458df1b",
   "metadata": {},
   "outputs": [
    {
     "name": "stdout",
     "output_type": "stream",
     "text": [
      "[('Pedro',     20, 'Santiago') ('Barbara', 213456, 'Brazilia')\n",
      " ('Sonya',     19, 'Mexico-Cit')]\n",
      "      Name     Age        Sity\n",
      "0    Pedro      20    Santiago\n",
      "1  Barbara  213456    Brazilia\n",
      "2    Sonya      19  Mexico-Cit\n"
     ]
    }
   ],
   "source": [
    "print(data_3)\n",
    "print(df_5)"
   ]
  },
  {
   "cell_type": "code",
   "execution_count": 104,
   "id": "2260c935-93a1-4b4c-ab39-cfff28231d21",
   "metadata": {},
   "outputs": [],
   "source": [
    "s23 = pd.Series([1,2,3], index = ['A', 'B', 'C'], name = 'first')\n",
    "s24 = pd.Series([4,5,6], index = ['A', 'B', 'C'], name = 'second')\n",
    "df_6 = pd.DataFrame([s23,s24])"
   ]
  },
  {
   "cell_type": "code",
   "execution_count": 106,
   "id": "7f9ca49c-9fbd-43cb-9a4f-a7f9e2300e3d",
   "metadata": {
    "scrolled": true
   },
   "outputs": [
    {
     "name": "stdout",
     "output_type": "stream",
     "text": [
      "A    1\n",
      "B    2\n",
      "C    3\n",
      "Name: first, dtype: int64\n",
      "A    4\n",
      "B    5\n",
      "C    6\n",
      "Name: second, dtype: int64\n",
      "        A  B  C\n",
      "first   1  2  3\n",
      "second  4  5  6\n"
     ]
    }
   ],
   "source": [
    "print(s23)\n",
    "print(s24)\n",
    "print(df_6)"
   ]
  },
  {
   "cell_type": "code",
   "execution_count": 108,
   "id": "ade6fbbc-3171-4644-a7bc-caf079fa02e8",
   "metadata": {},
   "outputs": [],
   "source": [
    "# 3. Объедините два объекта Series с неодинаковыми множествами ключей (индексов) так, чтобы вместо NaN было установлено значение 1\n"
   ]
  },
  {
   "cell_type": "code",
   "execution_count": 148,
   "id": "f1fa77b7-6070-4a50-9ad2-742f90867164",
   "metadata": {},
   "outputs": [],
   "source": [
    "s31 = pd.Series([10,20,30], index = ['A', 'B', 'C'])\n",
    "s32 = pd.Series([40,50], index = ['B', 'D'])\n",
    "combined = s31.add(s32, fill_value = 1)"
   ]
  },
  {
   "cell_type": "code",
   "execution_count": 152,
   "id": "b92948f0-fd5a-4d47-adee-99e0f1dc5fe2",
   "metadata": {},
   "outputs": [
    {
     "name": "stdout",
     "output_type": "stream",
     "text": [
      "A    11.0\n",
      "B    60.0\n",
      "C    31.0\n",
      "D    51.0\n",
      "dtype: float64\n"
     ]
    }
   ],
   "source": [
    "print(combined)"
   ]
  },
  {
   "cell_type": "code",
   "execution_count": 154,
   "id": "c6e6cddc-3e2c-47db-9e47-b91af2d7eb2b",
   "metadata": {},
   "outputs": [],
   "source": [
    "# 5. На примере объектов DataFrame продемонстрируйте использование методов ffill() и bfill()"
   ]
  },
  {
   "cell_type": "code",
   "execution_count": 166,
   "id": "b13c160d-fe0f-4e23-8a82-02db757532b3",
   "metadata": {},
   "outputs": [],
   "source": [
    "data_5 = {\n",
    "    'A': [1, np.nan,np.nan],\n",
    "    'B': [np.nan, 2, np.nan,],\n",
    "    'C': [np.nan,np.nan,3]\n",
    "}\n",
    "df_51 = pd.DataFrame(data_5)"
   ]
  },
  {
   "cell_type": "code",
   "execution_count": 162,
   "id": "5b910115-91fc-44d3-9b79-1d173d89fd4c",
   "metadata": {},
   "outputs": [
    {
     "name": "stdout",
     "output_type": "stream",
     "text": [
      "Original DataFrame\n",
      "     A    B    C\n",
      "0  1.0  NaN  NaN\n",
      "1  NaN  2.0  NaN\n",
      "2  NaN  NaN  3.0\n"
     ]
    }
   ],
   "source": [
    "print('Original DataFrame')\n",
    "print(df_51)"
   ]
  },
  {
   "cell_type": "code",
   "execution_count": 177,
   "id": "27700329-ac60-4f8b-8ed0-e96d7078bca2",
   "metadata": {},
   "outputs": [
    {
     "name": "stdout",
     "output_type": "stream",
     "text": [
      "     A    B    C\n",
      "0  1.0  NaN  NaN\n",
      "1  1.0  2.0  NaN\n",
      "2  1.0  2.0  3.0\n"
     ]
    }
   ],
   "source": [
    "ffilled_rows = df_51.ffill(axis = 0)\n",
    "print(ffilled_rows)"
   ]
  },
  {
   "cell_type": "code",
   "execution_count": 179,
   "id": "2979ddc9-fbe6-44bc-b94b-d51a0ea39f10",
   "metadata": {},
   "outputs": [
    {
     "name": "stdout",
     "output_type": "stream",
     "text": [
      "     A    B    C\n",
      "0  1.0  1.0  1.0\n",
      "1  NaN  2.0  2.0\n",
      "2  NaN  NaN  3.0\n"
     ]
    }
   ],
   "source": [
    "ffilled_cols = df_51.ffill(axis = 1)\n",
    "print(ffilled_cols)"
   ]
  },
  {
   "cell_type": "code",
   "execution_count": 185,
   "id": "b7e368cf-2ff8-4f16-bb04-c63ec1ac6d1f",
   "metadata": {},
   "outputs": [
    {
     "name": "stdout",
     "output_type": "stream",
     "text": [
      "     A    B    C\n",
      "0  1.0  2.0  3.0\n",
      "1  NaN  2.0  3.0\n",
      "2  NaN  NaN  3.0\n"
     ]
    }
   ],
   "source": [
    "bfilled_rows = df_51.bfill(axis = 0)\n",
    "print(bfilled_rows)"
   ]
  },
  {
   "cell_type": "code",
   "execution_count": 187,
   "id": "8ed1e5e7-076d-4eef-bad6-29e44a54707c",
   "metadata": {},
   "outputs": [
    {
     "name": "stdout",
     "output_type": "stream",
     "text": [
      "     A    B    C\n",
      "0  1.0  NaN  NaN\n",
      "1  2.0  2.0  NaN\n",
      "2  3.0  3.0  3.0\n"
     ]
    }
   ],
   "source": [
    "bfilled_cols = df_51.bfill(axis = 1)\n",
    "print(bfilled_cols)"
   ]
  },
  {
   "cell_type": "code",
   "execution_count": 191,
   "id": "4b126847-d581-43f7-8b65-16fbef9a351a",
   "metadata": {},
   "outputs": [
    {
     "name": "stdout",
     "output_type": "stream",
     "text": [
      "     A    B    C\n",
      "0  1.0  2.0  3.0\n",
      "1  1.0  2.0  3.0\n",
      "2  1.0  2.0  3.0\n"
     ]
    }
   ],
   "source": [
    "combined = df_51.bfill(axis = 0).ffill(axis = 0)\n",
    "print(combined)"
   ]
  },
  {
   "cell_type": "code",
   "execution_count": null,
   "id": "66ed60ee-fb9d-49b5-9a15-c2175c7ff649",
   "metadata": {},
   "outputs": [],
   "source": []
  }
 ],
 "metadata": {
  "kernelspec": {
   "display_name": "Python [conda env:base] *",
   "language": "python",
   "name": "conda-base-py"
  },
  "language_info": {
   "codemirror_mode": {
    "name": "ipython",
    "version": 3
   },
   "file_extension": ".py",
   "mimetype": "text/x-python",
   "name": "python",
   "nbconvert_exporter": "python",
   "pygments_lexer": "ipython3",
   "version": "3.12.7"
  }
 },
 "nbformat": 4,
 "nbformat_minor": 5
}
